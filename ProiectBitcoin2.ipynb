{
  "nbformat": 4,
  "nbformat_minor": 0,
  "metadata": {
    "colab": {
      "name": "ProiectBitcoin.ipynb",
      "provenance": [],
      "collapsed_sections": [],
      "toc_visible": true
    },
    "kernelspec": {
      "name": "python3",
      "display_name": "Python 3"
    }
  },
  "cells": [
    {
      "cell_type": "code",
      "metadata": {
        "id": "4sBvi5BlSA3y"
      },
      "source": [
        "import pandas as pd\r\n",
        "import numpy as np\r\n",
        "import matplotlib.pyplot as plt\r\n",
        "from datetime import datetime\r\n",
        "\r\n",
        "plt.style.use('seaborn-darkgrid')"
      ],
      "execution_count": null,
      "outputs": []
    },
    {
      "cell_type": "markdown",
      "metadata": {
        "id": "wNTTU6XiLc3K"
      },
      "source": [
        "## **CSV Read**"
      ]
    },
    {
      "cell_type": "code",
      "metadata": {
        "id": "_q9RUHvcSPPF"
      },
      "source": [
        "df = None\r\n",
        "df = pd.read_csv('BitcoinUSD.csv')"
      ],
      "execution_count": null,
      "outputs": []
    },
    {
      "cell_type": "markdown",
      "metadata": {
        "id": "g57a5k1H5Y6i"
      },
      "source": [
        "#**Database**"
      ]
    },
    {
      "cell_type": "code",
      "metadata": {
        "colab": {
          "base_uri": "https://localhost:8080/"
        },
        "id": "nFyGqJp8ZSfy",
        "outputId": "f5024465-a700-44f8-d049-de1a886162a3"
      },
      "source": [
        "print(df)"
      ],
      "execution_count": null,
      "outputs": [
        {
          "output_type": "stream",
          "text": [
            "          Timestamp  Open  High  ...  Volume_(BTC)  Volume_(Currency) Weighted_Price\n",
            "0        1325317920  4.39  4.39  ...      0.455581                2.0           4.39\n",
            "1        1325317980   NaN   NaN  ...           NaN                NaN            NaN\n",
            "2        1325318040   NaN   NaN  ...           NaN                NaN            NaN\n",
            "3        1325318100   NaN   NaN  ...           NaN                NaN            NaN\n",
            "4        1325318160   NaN   NaN  ...           NaN                NaN            NaN\n",
            "...             ...   ...   ...  ...           ...                ...            ...\n",
            "1307313  1403756700   NaN   NaN  ...           NaN                NaN            NaN\n",
            "1307314  1403756760   NaN   NaN  ...           NaN                NaN            NaN\n",
            "1307315  1403756820   NaN   NaN  ...           NaN                NaN            NaN\n",
            "1307316  1403756880   NaN   NaN  ...           NaN                NaN            NaN\n",
            "1307317  1403756940   NaN   NaN  ...            Na                NaN            NaN\n",
            "\n",
            "[1307318 rows x 8 columns]\n"
          ],
          "name": "stdout"
        }
      ]
    },
    {
      "cell_type": "code",
      "metadata": {
        "colab": {
          "base_uri": "https://localhost:8080/",
          "height": 204
        },
        "id": "bo1_nT6MTrca",
        "outputId": "002d55e2-eefa-48fa-8b9f-828849c731c7"
      },
      "source": [
        "df.head()"
      ],
      "execution_count": null,
      "outputs": [
        {
          "output_type": "execute_result",
          "data": {
            "text/html": [
              "<div>\n",
              "<style scoped>\n",
              "    .dataframe tbody tr th:only-of-type {\n",
              "        vertical-align: middle;\n",
              "    }\n",
              "\n",
              "    .dataframe tbody tr th {\n",
              "        vertical-align: top;\n",
              "    }\n",
              "\n",
              "    .dataframe thead th {\n",
              "        text-align: right;\n",
              "    }\n",
              "</style>\n",
              "<table border=\"1\" class=\"dataframe\">\n",
              "  <thead>\n",
              "    <tr style=\"text-align: right;\">\n",
              "      <th></th>\n",
              "      <th>Timestamp</th>\n",
              "      <th>Open</th>\n",
              "      <th>High</th>\n",
              "      <th>Low</th>\n",
              "      <th>Close</th>\n",
              "      <th>Volume_(BTC)</th>\n",
              "      <th>Volume_(Currency)</th>\n",
              "      <th>Weighted_Price</th>\n",
              "    </tr>\n",
              "  </thead>\n",
              "  <tbody>\n",
              "    <tr>\n",
              "      <th>0</th>\n",
              "      <td>1325317920</td>\n",
              "      <td>4.39</td>\n",
              "      <td>4.39</td>\n",
              "      <td>4.39</td>\n",
              "      <td>4.39</td>\n",
              "      <td>0.455581</td>\n",
              "      <td>2.0</td>\n",
              "      <td>4.39</td>\n",
              "    </tr>\n",
              "    <tr>\n",
              "      <th>1</th>\n",
              "      <td>1325317980</td>\n",
              "      <td>NaN</td>\n",
              "      <td>NaN</td>\n",
              "      <td>NaN</td>\n",
              "      <td>NaN</td>\n",
              "      <td>NaN</td>\n",
              "      <td>NaN</td>\n",
              "      <td>NaN</td>\n",
              "    </tr>\n",
              "    <tr>\n",
              "      <th>2</th>\n",
              "      <td>1325318040</td>\n",
              "      <td>NaN</td>\n",
              "      <td>NaN</td>\n",
              "      <td>NaN</td>\n",
              "      <td>NaN</td>\n",
              "      <td>NaN</td>\n",
              "      <td>NaN</td>\n",
              "      <td>NaN</td>\n",
              "    </tr>\n",
              "    <tr>\n",
              "      <th>3</th>\n",
              "      <td>1325318100</td>\n",
              "      <td>NaN</td>\n",
              "      <td>NaN</td>\n",
              "      <td>NaN</td>\n",
              "      <td>NaN</td>\n",
              "      <td>NaN</td>\n",
              "      <td>NaN</td>\n",
              "      <td>NaN</td>\n",
              "    </tr>\n",
              "    <tr>\n",
              "      <th>4</th>\n",
              "      <td>1325318160</td>\n",
              "      <td>NaN</td>\n",
              "      <td>NaN</td>\n",
              "      <td>NaN</td>\n",
              "      <td>NaN</td>\n",
              "      <td>NaN</td>\n",
              "      <td>NaN</td>\n",
              "      <td>NaN</td>\n",
              "    </tr>\n",
              "  </tbody>\n",
              "</table>\n",
              "</div>"
            ],
            "text/plain": [
              "    Timestamp  Open  High  ...  Volume_(BTC)  Volume_(Currency)  Weighted_Price\n",
              "0  1325317920  4.39  4.39  ...      0.455581                2.0            4.39\n",
              "1  1325317980   NaN   NaN  ...           NaN                NaN             NaN\n",
              "2  1325318040   NaN   NaN  ...           NaN                NaN             NaN\n",
              "3  1325318100   NaN   NaN  ...           NaN                NaN             NaN\n",
              "4  1325318160   NaN   NaN  ...           NaN                NaN             NaN\n",
              "\n",
              "[5 rows x 8 columns]"
            ]
          },
          "metadata": {
            "tags": []
          },
          "execution_count": 51
        }
      ]
    },
    {
      "cell_type": "code",
      "metadata": {
        "colab": {
          "base_uri": "https://localhost:8080/"
        },
        "id": "RgZNdDVNaI8Z",
        "outputId": "cb0303d5-faf8-4d30-d820-56b815367871"
      },
      "source": [
        "print(type(df))"
      ],
      "execution_count": null,
      "outputs": [
        {
          "output_type": "stream",
          "text": [
            "<class 'pandas.core.frame.DataFrame'>\n"
          ],
          "name": "stdout"
        }
      ]
    },
    {
      "cell_type": "code",
      "metadata": {
        "colab": {
          "base_uri": "https://localhost:8080/"
        },
        "id": "xSb_5V5NT-HL",
        "outputId": "fe24002b-3a03-4f10-c7ad-e067e1b2bdfe"
      },
      "source": [
        "print(df.shape)"
      ],
      "execution_count": null,
      "outputs": [
        {
          "output_type": "stream",
          "text": [
            "(4605110, 8)\n"
          ],
          "name": "stdout"
        }
      ]
    },
    {
      "cell_type": "code",
      "metadata": {
        "colab": {
          "base_uri": "https://localhost:8080/",
          "height": 419
        },
        "id": "M7bv2OJXLikL",
        "outputId": "30c80216-11e3-4ece-fdd6-8ca4bf39a2fb"
      },
      "source": [
        "df.head(-100)"
      ],
      "execution_count": null,
      "outputs": [
        {
          "output_type": "execute_result",
          "data": {
            "text/html": [
              "<div>\n",
              "<style scoped>\n",
              "    .dataframe tbody tr th:only-of-type {\n",
              "        vertical-align: middle;\n",
              "    }\n",
              "\n",
              "    .dataframe tbody tr th {\n",
              "        vertical-align: top;\n",
              "    }\n",
              "\n",
              "    .dataframe thead th {\n",
              "        text-align: right;\n",
              "    }\n",
              "</style>\n",
              "<table border=\"1\" class=\"dataframe\">\n",
              "  <thead>\n",
              "    <tr style=\"text-align: right;\">\n",
              "      <th></th>\n",
              "      <th>Timestamp</th>\n",
              "      <th>Open</th>\n",
              "      <th>High</th>\n",
              "      <th>Low</th>\n",
              "      <th>Close</th>\n",
              "      <th>Volume_(BTC)</th>\n",
              "      <th>Volume_(Currency)</th>\n",
              "      <th>Weighted_Price</th>\n",
              "    </tr>\n",
              "  </thead>\n",
              "  <tbody>\n",
              "    <tr>\n",
              "      <th>0</th>\n",
              "      <td>1325317920</td>\n",
              "      <td>4.39</td>\n",
              "      <td>4.39</td>\n",
              "      <td>4.39</td>\n",
              "      <td>4.39</td>\n",
              "      <td>0.455581</td>\n",
              "      <td>2.000000</td>\n",
              "      <td>4.390000</td>\n",
              "    </tr>\n",
              "    <tr>\n",
              "      <th>1</th>\n",
              "      <td>1325317980</td>\n",
              "      <td>NaN</td>\n",
              "      <td>NaN</td>\n",
              "      <td>NaN</td>\n",
              "      <td>NaN</td>\n",
              "      <td>NaN</td>\n",
              "      <td>NaN</td>\n",
              "      <td>NaN</td>\n",
              "    </tr>\n",
              "    <tr>\n",
              "      <th>2</th>\n",
              "      <td>1325318040</td>\n",
              "      <td>NaN</td>\n",
              "      <td>NaN</td>\n",
              "      <td>NaN</td>\n",
              "      <td>NaN</td>\n",
              "      <td>NaN</td>\n",
              "      <td>NaN</td>\n",
              "      <td>NaN</td>\n",
              "    </tr>\n",
              "    <tr>\n",
              "      <th>3</th>\n",
              "      <td>1325318100</td>\n",
              "      <td>NaN</td>\n",
              "      <td>NaN</td>\n",
              "      <td>NaN</td>\n",
              "      <td>NaN</td>\n",
              "      <td>NaN</td>\n",
              "      <td>NaN</td>\n",
              "      <td>NaN</td>\n",
              "    </tr>\n",
              "    <tr>\n",
              "      <th>4</th>\n",
              "      <td>1325318160</td>\n",
              "      <td>NaN</td>\n",
              "      <td>NaN</td>\n",
              "      <td>NaN</td>\n",
              "      <td>NaN</td>\n",
              "      <td>NaN</td>\n",
              "      <td>NaN</td>\n",
              "      <td>NaN</td>\n",
              "    </tr>\n",
              "    <tr>\n",
              "      <th>...</th>\n",
              "      <td>...</td>\n",
              "      <td>...</td>\n",
              "      <td>...</td>\n",
              "      <td>...</td>\n",
              "      <td>...</td>\n",
              "      <td>...</td>\n",
              "      <td>...</td>\n",
              "      <td>...</td>\n",
              "    </tr>\n",
              "    <tr>\n",
              "      <th>4605005</th>\n",
              "      <td>1602006540</td>\n",
              "      <td>10714.70</td>\n",
              "      <td>10714.72</td>\n",
              "      <td>10712.35</td>\n",
              "      <td>10714.72</td>\n",
              "      <td>2.088995</td>\n",
              "      <td>22382.747778</td>\n",
              "      <td>10714.602216</td>\n",
              "    </tr>\n",
              "    <tr>\n",
              "      <th>4605006</th>\n",
              "      <td>1602006600</td>\n",
              "      <td>10716.37</td>\n",
              "      <td>10720.09</td>\n",
              "      <td>10715.58</td>\n",
              "      <td>10715.58</td>\n",
              "      <td>5.152735</td>\n",
              "      <td>55224.086523</td>\n",
              "      <td>10717.431766</td>\n",
              "    </tr>\n",
              "    <tr>\n",
              "      <th>4605007</th>\n",
              "      <td>1602006660</td>\n",
              "      <td>10717.99</td>\n",
              "      <td>10718.03</td>\n",
              "      <td>10713.00</td>\n",
              "      <td>10716.57</td>\n",
              "      <td>0.220674</td>\n",
              "      <td>2365.061935</td>\n",
              "      <td>10717.463189</td>\n",
              "    </tr>\n",
              "    <tr>\n",
              "      <th>4605008</th>\n",
              "      <td>1602006720</td>\n",
              "      <td>10713.00</td>\n",
              "      <td>10713.12</td>\n",
              "      <td>10713.00</td>\n",
              "      <td>10713.12</td>\n",
              "      <td>0.077308</td>\n",
              "      <td>828.203413</td>\n",
              "      <td>10713.104240</td>\n",
              "    </tr>\n",
              "    <tr>\n",
              "      <th>4605009</th>\n",
              "      <td>1602006780</td>\n",
              "      <td>10713.00</td>\n",
              "      <td>10716.40</td>\n",
              "      <td>10713.00</td>\n",
              "      <td>10713.00</td>\n",
              "      <td>0.038153</td>\n",
              "      <td>408.775965</td>\n",
              "      <td>10714.036751</td>\n",
              "    </tr>\n",
              "  </tbody>\n",
              "</table>\n",
              "<p>4605010 rows × 8 columns</p>\n",
              "</div>"
            ],
            "text/plain": [
              "          Timestamp      Open  ...  Volume_(Currency)  Weighted_Price\n",
              "0        1325317920      4.39  ...           2.000000        4.390000\n",
              "1        1325317980       NaN  ...                NaN             NaN\n",
              "2        1325318040       NaN  ...                NaN             NaN\n",
              "3        1325318100       NaN  ...                NaN             NaN\n",
              "4        1325318160       NaN  ...                NaN             NaN\n",
              "...             ...       ...  ...                ...             ...\n",
              "4605005  1602006540  10714.70  ...       22382.747778    10714.602216\n",
              "4605006  1602006600  10716.37  ...       55224.086523    10717.431766\n",
              "4605007  1602006660  10717.99  ...        2365.061935    10717.463189\n",
              "4605008  1602006720  10713.00  ...         828.203413    10713.104240\n",
              "4605009  1602006780  10713.00  ...         408.775965    10714.036751\n",
              "\n",
              "[4605010 rows x 8 columns]"
            ]
          },
          "metadata": {
            "tags": []
          },
          "execution_count": 54
        }
      ]
    },
    {
      "cell_type": "markdown",
      "metadata": {
        "id": "TecxYZvqTuQZ"
      },
      "source": [
        "# **Timestamp to datetime**"
      ]
    },
    {
      "cell_type": "code",
      "metadata": {
        "id": "mDyeo9FGTty6"
      },
      "source": [
        "df['Timestamp'] = [datetime.fromtimestamp(x) for x in df['Timestamp']]\r\n",
        "df = df.set_index('Timestamp')"
      ],
      "execution_count": null,
      "outputs": []
    },
    {
      "cell_type": "code",
      "metadata": {
        "colab": {
          "base_uri": "https://localhost:8080/",
          "height": 235
        },
        "id": "5cAwuzByUqNf",
        "outputId": "5b715a8c-f425-4dc4-cbb8-67b564fad612"
      },
      "source": [
        "df.head()"
      ],
      "execution_count": null,
      "outputs": [
        {
          "output_type": "execute_result",
          "data": {
            "text/html": [
              "<div>\n",
              "<style scoped>\n",
              "    .dataframe tbody tr th:only-of-type {\n",
              "        vertical-align: middle;\n",
              "    }\n",
              "\n",
              "    .dataframe tbody tr th {\n",
              "        vertical-align: top;\n",
              "    }\n",
              "\n",
              "    .dataframe thead th {\n",
              "        text-align: right;\n",
              "    }\n",
              "</style>\n",
              "<table border=\"1\" class=\"dataframe\">\n",
              "  <thead>\n",
              "    <tr style=\"text-align: right;\">\n",
              "      <th></th>\n",
              "      <th>Open</th>\n",
              "      <th>High</th>\n",
              "      <th>Low</th>\n",
              "      <th>Close</th>\n",
              "      <th>Volume_(BTC)</th>\n",
              "      <th>Volume_(Currency)</th>\n",
              "      <th>Weighted_Price</th>\n",
              "    </tr>\n",
              "    <tr>\n",
              "      <th>Timestamp</th>\n",
              "      <th></th>\n",
              "      <th></th>\n",
              "      <th></th>\n",
              "      <th></th>\n",
              "      <th></th>\n",
              "      <th></th>\n",
              "      <th></th>\n",
              "    </tr>\n",
              "  </thead>\n",
              "  <tbody>\n",
              "    <tr>\n",
              "      <th>2011-12-31 07:52:00</th>\n",
              "      <td>4.39</td>\n",
              "      <td>4.39</td>\n",
              "      <td>4.39</td>\n",
              "      <td>4.39</td>\n",
              "      <td>0.455581</td>\n",
              "      <td>2.0</td>\n",
              "      <td>4.39</td>\n",
              "    </tr>\n",
              "    <tr>\n",
              "      <th>2011-12-31 07:53:00</th>\n",
              "      <td>NaN</td>\n",
              "      <td>NaN</td>\n",
              "      <td>NaN</td>\n",
              "      <td>NaN</td>\n",
              "      <td>NaN</td>\n",
              "      <td>NaN</td>\n",
              "      <td>NaN</td>\n",
              "    </tr>\n",
              "    <tr>\n",
              "      <th>2011-12-31 07:54:00</th>\n",
              "      <td>NaN</td>\n",
              "      <td>NaN</td>\n",
              "      <td>NaN</td>\n",
              "      <td>NaN</td>\n",
              "      <td>NaN</td>\n",
              "      <td>NaN</td>\n",
              "      <td>NaN</td>\n",
              "    </tr>\n",
              "    <tr>\n",
              "      <th>2011-12-31 07:55:00</th>\n",
              "      <td>NaN</td>\n",
              "      <td>NaN</td>\n",
              "      <td>NaN</td>\n",
              "      <td>NaN</td>\n",
              "      <td>NaN</td>\n",
              "      <td>NaN</td>\n",
              "      <td>NaN</td>\n",
              "    </tr>\n",
              "    <tr>\n",
              "      <th>2011-12-31 07:56:00</th>\n",
              "      <td>NaN</td>\n",
              "      <td>NaN</td>\n",
              "      <td>NaN</td>\n",
              "      <td>NaN</td>\n",
              "      <td>NaN</td>\n",
              "      <td>NaN</td>\n",
              "      <td>NaN</td>\n",
              "    </tr>\n",
              "  </tbody>\n",
              "</table>\n",
              "</div>"
            ],
            "text/plain": [
              "                     Open  High  ...  Volume_(Currency)  Weighted_Price\n",
              "Timestamp                        ...                                   \n",
              "2011-12-31 07:52:00  4.39  4.39  ...                2.0            4.39\n",
              "2011-12-31 07:53:00   NaN   NaN  ...                NaN             NaN\n",
              "2011-12-31 07:54:00   NaN   NaN  ...                NaN             NaN\n",
              "2011-12-31 07:55:00   NaN   NaN  ...                NaN             NaN\n",
              "2011-12-31 07:56:00   NaN   NaN  ...                NaN             NaN\n",
              "\n",
              "[5 rows x 7 columns]"
            ]
          },
          "metadata": {
            "tags": []
          },
          "execution_count": 56
        }
      ]
    },
    {
      "cell_type": "markdown",
      "metadata": {
        "id": "BfGkw_Pg_xEX"
      },
      "source": [
        "# **Fill values with interpolate**"
      ]
    },
    {
      "cell_type": "code",
      "metadata": {
        "colab": {
          "base_uri": "https://localhost:8080/"
        },
        "id": "imZOSFr_fbvB",
        "outputId": "07b9b890-b57e-4938-e614-f0db4bae2113"
      },
      "source": [
        "def fill_missing(df):\r\n",
        "    \r\n",
        "    df['Open'] = df['Open'].interpolate()\r\n",
        "    df['Close'] = df['Close'].interpolate()\r\n",
        "    df['Weighted_Price'] = df['Weighted_Price'].interpolate()\r\n",
        "    df['Volume_(BTC)'] = df['Volume_(BTC)'].interpolate()\r\n",
        "    df['Volume_(Currency)'] = df['Volume_(Currency)'].interpolate()\r\n",
        "    df['High'] = df['High'].interpolate()\r\n",
        "    df['Low'] = df['Low'].interpolate()\r\n",
        "    print(df.head())\r\n",
        "    print(df.isnull().sum())\r\n",
        "fill_missing(df)"
      ],
      "execution_count": null,
      "outputs": [
        {
          "output_type": "stream",
          "text": [
            "                     Open  High  ...  Volume_(Currency)  Weighted_Price\n",
            "Timestamp                        ...                                   \n",
            "2011-12-31 07:52:00  4.39  4.39  ...           2.000000            4.39\n",
            "2011-12-31 07:53:00  4.39  4.39  ...           2.436653            4.39\n",
            "2011-12-31 07:54:00  4.39  4.39  ...           2.873305            4.39\n",
            "2011-12-31 07:55:00  4.39  4.39  ...           3.309958            4.39\n",
            "2011-12-31 07:56:00  4.39  4.39  ...           3.746611            4.39\n",
            "\n",
            "[5 rows x 7 columns]\n",
            "Open                 0\n",
            "High                 0\n",
            "Low                  0\n",
            "Close                0\n",
            "Volume_(BTC)         0\n",
            "Volume_(Currency)    0\n",
            "Weighted_Price       0\n",
            "dtype: int64\n"
          ],
          "name": "stdout"
        }
      ]
    },
    {
      "cell_type": "code",
      "metadata": {
        "colab": {
          "base_uri": "https://localhost:8080/",
          "height": 450
        },
        "id": "FyZz7WeJfkHn",
        "outputId": "beff049b-a0cc-4cd1-ecd6-02c802f5e8fe"
      },
      "source": [
        "df.head(968)"
      ],
      "execution_count": null,
      "outputs": [
        {
          "output_type": "execute_result",
          "data": {
            "text/html": [
              "<div>\n",
              "<style scoped>\n",
              "    .dataframe tbody tr th:only-of-type {\n",
              "        vertical-align: middle;\n",
              "    }\n",
              "\n",
              "    .dataframe tbody tr th {\n",
              "        vertical-align: top;\n",
              "    }\n",
              "\n",
              "    .dataframe thead th {\n",
              "        text-align: right;\n",
              "    }\n",
              "</style>\n",
              "<table border=\"1\" class=\"dataframe\">\n",
              "  <thead>\n",
              "    <tr style=\"text-align: right;\">\n",
              "      <th></th>\n",
              "      <th>Open</th>\n",
              "      <th>High</th>\n",
              "      <th>Low</th>\n",
              "      <th>Close</th>\n",
              "      <th>Volume_(BTC)</th>\n",
              "      <th>Volume_(Currency)</th>\n",
              "      <th>Weighted_Price</th>\n",
              "    </tr>\n",
              "    <tr>\n",
              "      <th>Timestamp</th>\n",
              "      <th></th>\n",
              "      <th></th>\n",
              "      <th></th>\n",
              "      <th></th>\n",
              "      <th></th>\n",
              "      <th></th>\n",
              "      <th></th>\n",
              "    </tr>\n",
              "  </thead>\n",
              "  <tbody>\n",
              "    <tr>\n",
              "      <th>2011-12-31 07:52:00</th>\n",
              "      <td>4.39</td>\n",
              "      <td>4.39</td>\n",
              "      <td>4.39</td>\n",
              "      <td>4.39</td>\n",
              "      <td>0.455581</td>\n",
              "      <td>2.000000</td>\n",
              "      <td>4.39</td>\n",
              "    </tr>\n",
              "    <tr>\n",
              "      <th>2011-12-31 07:53:00</th>\n",
              "      <td>4.39</td>\n",
              "      <td>4.39</td>\n",
              "      <td>4.39</td>\n",
              "      <td>4.39</td>\n",
              "      <td>0.555046</td>\n",
              "      <td>2.436653</td>\n",
              "      <td>4.39</td>\n",
              "    </tr>\n",
              "    <tr>\n",
              "      <th>2011-12-31 07:54:00</th>\n",
              "      <td>4.39</td>\n",
              "      <td>4.39</td>\n",
              "      <td>4.39</td>\n",
              "      <td>4.39</td>\n",
              "      <td>0.654511</td>\n",
              "      <td>2.873305</td>\n",
              "      <td>4.39</td>\n",
              "    </tr>\n",
              "    <tr>\n",
              "      <th>2011-12-31 07:55:00</th>\n",
              "      <td>4.39</td>\n",
              "      <td>4.39</td>\n",
              "      <td>4.39</td>\n",
              "      <td>4.39</td>\n",
              "      <td>0.753977</td>\n",
              "      <td>3.309958</td>\n",
              "      <td>4.39</td>\n",
              "    </tr>\n",
              "    <tr>\n",
              "      <th>2011-12-31 07:56:00</th>\n",
              "      <td>4.39</td>\n",
              "      <td>4.39</td>\n",
              "      <td>4.39</td>\n",
              "      <td>4.39</td>\n",
              "      <td>0.853442</td>\n",
              "      <td>3.746611</td>\n",
              "      <td>4.39</td>\n",
              "    </tr>\n",
              "    <tr>\n",
              "      <th>...</th>\n",
              "      <td>...</td>\n",
              "      <td>...</td>\n",
              "      <td>...</td>\n",
              "      <td>...</td>\n",
              "      <td>...</td>\n",
              "      <td>...</td>\n",
              "      <td>...</td>\n",
              "    </tr>\n",
              "    <tr>\n",
              "      <th>2011-12-31 23:55:00</th>\n",
              "      <td>4.58</td>\n",
              "      <td>4.58</td>\n",
              "      <td>4.58</td>\n",
              "      <td>4.58</td>\n",
              "      <td>4.396938</td>\n",
              "      <td>20.137975</td>\n",
              "      <td>4.58</td>\n",
              "    </tr>\n",
              "    <tr>\n",
              "      <th>2011-12-31 23:56:00</th>\n",
              "      <td>4.58</td>\n",
              "      <td>4.58</td>\n",
              "      <td>4.58</td>\n",
              "      <td>4.58</td>\n",
              "      <td>4.385846</td>\n",
              "      <td>20.087175</td>\n",
              "      <td>4.58</td>\n",
              "    </tr>\n",
              "    <tr>\n",
              "      <th>2011-12-31 23:57:00</th>\n",
              "      <td>4.58</td>\n",
              "      <td>4.58</td>\n",
              "      <td>4.58</td>\n",
              "      <td>4.58</td>\n",
              "      <td>4.374754</td>\n",
              "      <td>20.036375</td>\n",
              "      <td>4.58</td>\n",
              "    </tr>\n",
              "    <tr>\n",
              "      <th>2011-12-31 23:58:00</th>\n",
              "      <td>4.58</td>\n",
              "      <td>4.58</td>\n",
              "      <td>4.58</td>\n",
              "      <td>4.58</td>\n",
              "      <td>4.363663</td>\n",
              "      <td>19.985575</td>\n",
              "      <td>4.58</td>\n",
              "    </tr>\n",
              "    <tr>\n",
              "      <th>2011-12-31 23:59:00</th>\n",
              "      <td>4.58</td>\n",
              "      <td>4.58</td>\n",
              "      <td>4.58</td>\n",
              "      <td>4.58</td>\n",
              "      <td>4.352571</td>\n",
              "      <td>19.934775</td>\n",
              "      <td>4.58</td>\n",
              "    </tr>\n",
              "  </tbody>\n",
              "</table>\n",
              "<p>968 rows × 7 columns</p>\n",
              "</div>"
            ],
            "text/plain": [
              "                     Open  High  ...  Volume_(Currency)  Weighted_Price\n",
              "Timestamp                        ...                                   \n",
              "2011-12-31 07:52:00  4.39  4.39  ...           2.000000            4.39\n",
              "2011-12-31 07:53:00  4.39  4.39  ...           2.436653            4.39\n",
              "2011-12-31 07:54:00  4.39  4.39  ...           2.873305            4.39\n",
              "2011-12-31 07:55:00  4.39  4.39  ...           3.309958            4.39\n",
              "2011-12-31 07:56:00  4.39  4.39  ...           3.746611            4.39\n",
              "...                   ...   ...  ...                ...             ...\n",
              "2011-12-31 23:55:00  4.58  4.58  ...          20.137975            4.58\n",
              "2011-12-31 23:56:00  4.58  4.58  ...          20.087175            4.58\n",
              "2011-12-31 23:57:00  4.58  4.58  ...          20.036375            4.58\n",
              "2011-12-31 23:58:00  4.58  4.58  ...          19.985575            4.58\n",
              "2011-12-31 23:59:00  4.58  4.58  ...          19.934775            4.58\n",
              "\n",
              "[968 rows x 7 columns]"
            ]
          },
          "metadata": {
            "tags": []
          },
          "execution_count": 58
        }
      ]
    },
    {
      "cell_type": "code",
      "metadata": {
        "colab": {
          "base_uri": "https://localhost:8080/"
        },
        "id": "pu8xTNWTfqzv",
        "outputId": "f850c513-ac2d-4dda-ac94-a525b15cd163"
      },
      "source": [
        "print(df['Open'])"
      ],
      "execution_count": null,
      "outputs": [
        {
          "output_type": "stream",
          "text": [
            "Timestamp\n",
            "2011-12-31 07:52:00        4.39\n",
            "2011-12-31 07:53:00        4.39\n",
            "2011-12-31 07:54:00        4.39\n",
            "2011-12-31 07:55:00        4.39\n",
            "2011-12-31 07:56:00        4.39\n",
            "                         ...   \n",
            "2020-10-06 19:29:00    10567.17\n",
            "2020-10-06 19:30:00    10570.65\n",
            "2020-10-06 19:31:00    10573.98\n",
            "2020-10-06 19:32:00    10586.43\n",
            "2020-10-06 19:33:00    10581.00\n",
            "Name: Open, Length: 4605110, dtype: float64\n"
          ],
          "name": "stdout"
        }
      ]
    },
    {
      "cell_type": "markdown",
      "metadata": {
        "id": "oqsknBI66uQb"
      },
      "source": [
        "# **Analiza coloane**"
      ]
    },
    {
      "cell_type": "code",
      "metadata": {
        "colab": {
          "base_uri": "https://localhost:8080/"
        },
        "id": "MWsltDu642yQ",
        "outputId": "40c2037c-5d52-44ae-b0ae-f1d63251a374"
      },
      "source": [
        "print('Analiza Volume_(BTC)')\r\n",
        "s1 = pd.Series(df['Volume_(BTC)'])\r\n",
        "print(s1.describe())\r\n",
        "print()\r\n",
        "print('Analiza Volume_(Currency)')\r\n",
        "s2 = pd.Series(df['Volume_(Currency)'])\r\n",
        "print(s2.describe())\r\n",
        "print()\r\n",
        "print('Analiza Pret mediu')\r\n",
        "s3 = pd.Series(df['Weighted_Price'])\r\n",
        "print(s3.describe())"
      ],
      "execution_count": null,
      "outputs": [
        {
          "output_type": "stream",
          "text": [
            "Analiza Volume_(BTC)\n",
            "count    4.605110e+06\n",
            "mean     9.720916e+00\n",
            "std      3.045479e+01\n",
            "min      0.000000e+00\n",
            "25%      4.894007e-01\n",
            "50%      2.194392e+00\n",
            "75%      8.124811e+00\n",
            "max      5.853852e+03\n",
            "Name: Volume_(BTC), dtype: float64\n",
            "\n",
            "Analiza Volume_(Currency)\n",
            "count    4.605110e+06\n",
            "mean     2.281442e+04\n",
            "std      9.244014e+04\n",
            "min      0.000000e+00\n",
            "25%      1.539309e+02\n",
            "50%      1.163606e+03\n",
            "75%      1.058132e+04\n",
            "max      1.044599e+07\n",
            "Name: Volume_(Currency), dtype: float64\n",
            "\n",
            "Analiza Pret mediu\n",
            "count    4.605110e+06\n",
            "mean     3.131937e+03\n",
            "std      3.944059e+03\n",
            "min      3.800000e+00\n",
            "25%      2.376600e+02\n",
            "50%      6.361666e+02\n",
            "75%      6.457569e+03\n",
            "max      1.966330e+04\n",
            "Name: Weighted_Price, dtype: float64\n"
          ],
          "name": "stdout"
        }
      ]
    },
    {
      "cell_type": "markdown",
      "metadata": {
        "id": "nt7OU0nh5_Xv"
      },
      "source": [
        "# **Analiza statistica chunks**"
      ]
    },
    {
      "cell_type": "code",
      "metadata": {
        "colab": {
          "base_uri": "https://localhost:8080/"
        },
        "id": "2sjI3oiY5-wT",
        "outputId": "54e7d2cd-2e1a-4704-dfd1-df6cc43daac7"
      },
      "source": [
        "chunks = pd.read_csv('BitcoinUSD.csv',chunksize=1000000)\r\n",
        "for i, c in enumerate(chunks):\r\n",
        "    print(f'Statistica pt partea {i} avand num el {len(c)} :\\n{c.describe()}\\n')"
      ],
      "execution_count": null,
      "outputs": [
        {
          "output_type": "stream",
          "text": [
            "Statistica pt partea 0 avand num el 1000000 :\n",
            "          Timestamp           Open  ...  Volume_(Currency)  Weighted_Price\n",
            "count  1.000000e+06  295955.000000  ...      295955.000000   295955.000000\n",
            "mean   1.355318e+09     135.310713  ...        2320.234664      135.292462\n",
            "std    1.732052e+07     124.729307  ...       10102.412845      124.707306\n",
            "min    1.325318e+09       3.800000  ...           0.000000        3.800000\n",
            "25%    1.340318e+09      89.640000  ...          83.060000       89.629441\n",
            "50%    1.355318e+09     115.990000  ...         242.509999      115.970000\n",
            "75%    1.370318e+09     130.160000  ...        1087.086592      130.120000\n",
            "max    1.385318e+09     874.810000  ...      703452.627230      874.754924\n",
            "\n",
            "[8 rows x 8 columns]\n",
            "\n",
            "Statistica pt partea 1 avand num el 1000000 :\n",
            "          Timestamp           Open  ...  Volume_(Currency)  Weighted_Price\n",
            "count  1.000000e+06  743073.000000  ...       7.430730e+05   743073.000000\n",
            "mean   1.415479e+09     436.248054  ...       6.006742e+03      436.224080\n",
            "std    1.748403e+07     206.057315  ...       2.250181e+04      206.035047\n",
            "min    1.385318e+09     153.050000  ...       0.000000e+00      156.654520\n",
            "25%    1.400318e+09     248.720000  ...       1.587085e+02      248.705626\n",
            "50%    1.415318e+09     377.000000  ...       7.970507e+02      377.000000\n",
            "75%    1.430706e+09     588.000000  ...       3.642191e+03      588.000000\n",
            "max    1.445706e+09    1163.000000  ...       1.865889e+06     1162.999574\n",
            "\n",
            "[8 rows x 8 columns]\n",
            "\n",
            "Statistica pt partea 2 avand num el 1000000 :\n",
            "          Timestamp           Open  ...  Volume_(Currency)  Weighted_Price\n",
            "count  1.000000e+06  765005.000000  ...       7.650050e+05   765005.000000\n",
            "mean   1.475706e+09    1229.836977  ...       1.147408e+04     1229.758113\n",
            "std    1.732052e+07    1102.501413  ...       3.685490e+04     1102.369469\n",
            "min    1.445706e+09     279.120000  ...       0.000000e+00      279.120000\n",
            "25%    1.460706e+09     445.110000  ...       1.919350e+02      445.059088\n",
            "50%    1.475706e+09     728.910000  ...       1.246855e+03      728.910000\n",
            "75%    1.490706e+09    1463.000000  ...       7.980050e+03     1462.988231\n",
            "max    1.505706e+09    4979.890000  ...       4.339350e+06     4979.429180\n",
            "\n",
            "[8 rows x 8 columns]\n",
            "\n",
            "Statistica pt partea 3 avand num el 1000000 :\n",
            "          Timestamp           Open  ...  Volume_(Currency)  Weighted_Price\n",
            "count  1.000000e+06  964070.000000  ...       9.640700e+05   964070.000000\n",
            "mean   1.535706e+09    7451.094577  ...       6.273026e+04     7450.720515\n",
            "std    1.732052e+07    3073.094110  ...       1.520318e+05     3072.704001\n",
            "min    1.505706e+09    3124.450000  ...       3.402300e-05     3124.042815\n",
            "25%    1.520706e+09    5256.420000  ...       3.509031e+03     5256.403319\n",
            "50%    1.535706e+09    6799.990000  ...       1.644443e+04     6799.327153\n",
            "75%    1.550706e+09    9019.927500  ...       5.711195e+04     9018.981511\n",
            "max    1.565706e+09   19665.760000  ...       7.569437e+06    19663.298888\n",
            "\n",
            "[8 rows x 8 columns]\n",
            "\n",
            "Statistica pt partea 4 avand num el 727777 :\n",
            "          Timestamp           Open  ...  Volume_(Currency)  Weighted_Price\n",
            "count  7.277770e+05  716202.000000  ...       7.162020e+05   716202.000000\n",
            "mean   1.587540e+09   10384.148701  ...       5.742034e+04    10384.609441\n",
            "std    1.260548e+07    3757.358489  ...       1.595794e+05     3757.298670\n",
            "min    1.565706e+09    3858.270000  ...       9.133420e-04     3875.980373\n",
            "25%    1.576623e+09    8234.482500  ...       2.110416e+03     8235.001899\n",
            "50%    1.587540e+09    9435.000000  ...       1.270078e+04     9435.466110\n",
            "75%    1.598456e+09   10883.360000  ...       4.970016e+04    10883.886517\n",
            "max    1.609373e+09   28997.380000  ...       1.044599e+07    28985.885528\n",
            "\n",
            "[8 rows x 8 columns]\n",
            "\n"
          ],
          "name": "stdout"
        }
      ]
    },
    {
      "cell_type": "markdown",
      "metadata": {
        "id": "gcOM64McUhrz"
      },
      "source": [
        "# **Resampling**"
      ]
    },
    {
      "cell_type": "code",
      "metadata": {
        "colab": {
          "base_uri": "https://localhost:8080/",
          "height": 450
        },
        "id": "D9mqNzuyUjKy",
        "outputId": "1f4124aa-0e96-40b2-91fa-dfbb035490f2"
      },
      "source": [
        "df_daily = df.resample(\"24H\").mean() \r\n",
        "# print(df_daily.shape)\r\n",
        "df_daily.head(1753)"
      ],
      "execution_count": null,
      "outputs": [
        {
          "output_type": "execute_result",
          "data": {
            "text/html": [
              "<div>\n",
              "<style scoped>\n",
              "    .dataframe tbody tr th:only-of-type {\n",
              "        vertical-align: middle;\n",
              "    }\n",
              "\n",
              "    .dataframe tbody tr th {\n",
              "        vertical-align: top;\n",
              "    }\n",
              "\n",
              "    .dataframe thead th {\n",
              "        text-align: right;\n",
              "    }\n",
              "</style>\n",
              "<table border=\"1\" class=\"dataframe\">\n",
              "  <thead>\n",
              "    <tr style=\"text-align: right;\">\n",
              "      <th></th>\n",
              "      <th>Open</th>\n",
              "      <th>High</th>\n",
              "      <th>Low</th>\n",
              "      <th>Close</th>\n",
              "      <th>Volume_(BTC)</th>\n",
              "      <th>Volume_(Currency)</th>\n",
              "      <th>Weighted_Price</th>\n",
              "    </tr>\n",
              "    <tr>\n",
              "      <th>Timestamp</th>\n",
              "      <th></th>\n",
              "      <th></th>\n",
              "      <th></th>\n",
              "      <th></th>\n",
              "      <th></th>\n",
              "      <th></th>\n",
              "      <th></th>\n",
              "    </tr>\n",
              "  </thead>\n",
              "  <tbody>\n",
              "    <tr>\n",
              "      <th>2011-12-31</th>\n",
              "      <td>4.476415</td>\n",
              "      <td>4.478946</td>\n",
              "      <td>4.476415</td>\n",
              "      <td>4.478946</td>\n",
              "      <td>17.940426</td>\n",
              "      <td>79.495594</td>\n",
              "      <td>4.477370</td>\n",
              "    </tr>\n",
              "    <tr>\n",
              "      <th>2012-01-01</th>\n",
              "      <td>4.765576</td>\n",
              "      <td>4.765576</td>\n",
              "      <td>4.765576</td>\n",
              "      <td>4.765576</td>\n",
              "      <td>6.790640</td>\n",
              "      <td>32.971105</td>\n",
              "      <td>4.765576</td>\n",
              "    </tr>\n",
              "    <tr>\n",
              "      <th>2012-01-02</th>\n",
              "      <td>5.006549</td>\n",
              "      <td>5.006549</td>\n",
              "      <td>5.006549</td>\n",
              "      <td>5.006549</td>\n",
              "      <td>15.183373</td>\n",
              "      <td>75.932706</td>\n",
              "      <td>5.006549</td>\n",
              "    </tr>\n",
              "    <tr>\n",
              "      <th>2012-01-03</th>\n",
              "      <td>5.206530</td>\n",
              "      <td>5.206530</td>\n",
              "      <td>5.206530</td>\n",
              "      <td>5.206530</td>\n",
              "      <td>7.917041</td>\n",
              "      <td>40.795994</td>\n",
              "      <td>5.206530</td>\n",
              "    </tr>\n",
              "    <tr>\n",
              "      <th>2012-01-04</th>\n",
              "      <td>5.202511</td>\n",
              "      <td>5.241699</td>\n",
              "      <td>5.202511</td>\n",
              "      <td>5.241699</td>\n",
              "      <td>13.659736</td>\n",
              "      <td>72.860096</td>\n",
              "      <td>5.216680</td>\n",
              "    </tr>\n",
              "    <tr>\n",
              "      <th>...</th>\n",
              "      <td>...</td>\n",
              "      <td>...</td>\n",
              "      <td>...</td>\n",
              "      <td>...</td>\n",
              "      <td>...</td>\n",
              "      <td>...</td>\n",
              "      <td>...</td>\n",
              "    </tr>\n",
              "    <tr>\n",
              "      <th>2016-10-13</th>\n",
              "      <td>634.899913</td>\n",
              "      <td>634.999354</td>\n",
              "      <td>634.756417</td>\n",
              "      <td>634.872594</td>\n",
              "      <td>3.145319</td>\n",
              "      <td>1995.120768</td>\n",
              "      <td>634.883286</td>\n",
              "    </tr>\n",
              "    <tr>\n",
              "      <th>2016-10-14</th>\n",
              "      <td>635.570410</td>\n",
              "      <td>635.661715</td>\n",
              "      <td>635.458306</td>\n",
              "      <td>635.559913</td>\n",
              "      <td>3.677855</td>\n",
              "      <td>2334.775037</td>\n",
              "      <td>635.554153</td>\n",
              "    </tr>\n",
              "    <tr>\n",
              "      <th>2016-10-15</th>\n",
              "      <td>638.506274</td>\n",
              "      <td>638.677132</td>\n",
              "      <td>638.282382</td>\n",
              "      <td>638.437965</td>\n",
              "      <td>1.496872</td>\n",
              "      <td>956.095080</td>\n",
              "      <td>638.447419</td>\n",
              "    </tr>\n",
              "    <tr>\n",
              "      <th>2016-10-16</th>\n",
              "      <td>638.070281</td>\n",
              "      <td>638.184000</td>\n",
              "      <td>637.883847</td>\n",
              "      <td>637.995264</td>\n",
              "      <td>1.700024</td>\n",
              "      <td>1085.352855</td>\n",
              "      <td>638.028618</td>\n",
              "    </tr>\n",
              "    <tr>\n",
              "      <th>2016-10-17</th>\n",
              "      <td>636.187156</td>\n",
              "      <td>636.272941</td>\n",
              "      <td>636.068563</td>\n",
              "      <td>636.172951</td>\n",
              "      <td>4.125287</td>\n",
              "      <td>2622.809305</td>\n",
              "      <td>636.169486</td>\n",
              "    </tr>\n",
              "  </tbody>\n",
              "</table>\n",
              "<p>1753 rows × 7 columns</p>\n",
              "</div>"
            ],
            "text/plain": [
              "                  Open        High  ...  Volume_(Currency)  Weighted_Price\n",
              "Timestamp                           ...                                   \n",
              "2011-12-31    4.476415    4.478946  ...          79.495594        4.477370\n",
              "2012-01-01    4.765576    4.765576  ...          32.971105        4.765576\n",
              "2012-01-02    5.006549    5.006549  ...          75.932706        5.006549\n",
              "2012-01-03    5.206530    5.206530  ...          40.795994        5.206530\n",
              "2012-01-04    5.202511    5.241699  ...          72.860096        5.216680\n",
              "...                ...         ...  ...                ...             ...\n",
              "2016-10-13  634.899913  634.999354  ...        1995.120768      634.883286\n",
              "2016-10-14  635.570410  635.661715  ...        2334.775037      635.554153\n",
              "2016-10-15  638.506274  638.677132  ...         956.095080      638.447419\n",
              "2016-10-16  638.070281  638.184000  ...        1085.352855      638.028618\n",
              "2016-10-17  636.187156  636.272941  ...        2622.809305      636.169486\n",
              "\n",
              "[1753 rows x 7 columns]"
            ]
          },
          "metadata": {
            "tags": []
          },
          "execution_count": 62
        }
      ]
    },
    {
      "cell_type": "code",
      "metadata": {
        "colab": {
          "base_uri": "https://localhost:8080/"
        },
        "id": "f5r_R67TjYCk",
        "outputId": "54e99659-0661-49c4-a441-44fa4c760c2e"
      },
      "source": [
        "print(df_daily['Open'])"
      ],
      "execution_count": null,
      "outputs": [
        {
          "output_type": "stream",
          "text": [
            "Timestamp\n",
            "2011-12-31        4.476415\n",
            "2012-01-01        4.765576\n",
            "2012-01-02        5.006549\n",
            "2012-01-03        5.206530\n",
            "2012-01-04        5.202511\n",
            "                  ...     \n",
            "2020-10-02    10528.114097\n",
            "2020-10-03    10549.086313\n",
            "2020-10-04    10604.559104\n",
            "2020-10-05    10704.466215\n",
            "2020-10-06    10727.533888\n",
            "Freq: 24H, Name: Open, Length: 3203, dtype: float64\n"
          ],
          "name": "stdout"
        }
      ]
    },
    {
      "cell_type": "code",
      "metadata": {
        "colab": {
          "base_uri": "https://localhost:8080/"
        },
        "id": "uKkv42MLjIfg",
        "outputId": "49610f6b-b679-4943-aac8-3b7d9d286f0d"
      },
      "source": [
        "print(df_daily.columns)"
      ],
      "execution_count": null,
      "outputs": [
        {
          "output_type": "stream",
          "text": [
            "Index(['Open', 'High', 'Low', 'Close', 'Volume_(BTC)', 'Volume_(Currency)',\n",
            "       'Weighted_Price'],\n",
            "      dtype='object')\n"
          ],
          "name": "stdout"
        }
      ]
    },
    {
      "cell_type": "code",
      "metadata": {
        "colab": {
          "base_uri": "https://localhost:8080/"
        },
        "id": "Hlo6RRVuAOSc",
        "outputId": "5206d195-a7b7-46dd-9bee-91974ee8b3d8"
      },
      "source": [
        "df.isnull().sum()"
      ],
      "execution_count": null,
      "outputs": [
        {
          "output_type": "execute_result",
          "data": {
            "text/plain": [
              "Open                 0\n",
              "High                 0\n",
              "Low                  0\n",
              "Close                0\n",
              "Volume_(BTC)         0\n",
              "Volume_(Currency)    0\n",
              "Weighted_Price       0\n",
              "dtype: int64"
            ]
          },
          "metadata": {
            "tags": []
          },
          "execution_count": 65
        }
      ]
    },
    {
      "cell_type": "markdown",
      "metadata": {
        "id": "yhP3b6RW_iZR"
      },
      "source": [
        "# **Timestamp to column**\r\n"
      ]
    },
    {
      "cell_type": "code",
      "metadata": {
        "colab": {
          "base_uri": "https://localhost:8080/"
        },
        "id": "idTaXJDflCGQ",
        "outputId": "214d6a41-e0ac-434a-c939-1f1bf9454624"
      },
      "source": [
        "df_daily['tmp'] = df_daily.index\r\n",
        "print(df_daily)"
      ],
      "execution_count": null,
      "outputs": [
        {
          "output_type": "stream",
          "text": [
            "                    Open          High  ...  Weighted_Price        tmp\n",
            "Timestamp                               ...                           \n",
            "2011-12-31      4.476415      4.478946  ...        4.477370 2011-12-31\n",
            "2012-01-01      4.765576      4.765576  ...        4.765576 2012-01-01\n",
            "2012-01-02      5.006549      5.006549  ...        5.006549 2012-01-02\n",
            "2012-01-03      5.206530      5.206530  ...        5.206530 2012-01-03\n",
            "2012-01-04      5.202511      5.241699  ...        5.216680 2012-01-04\n",
            "...                  ...           ...  ...             ...        ...\n",
            "2020-10-02  10528.114097  10531.836177  ...    10528.595023 2020-10-02\n",
            "2020-10-03  10549.086313  10551.084976  ...    10549.760898 2020-10-03\n",
            "2020-10-04  10604.559104  10606.283399  ...    10605.085571 2020-10-04\n",
            "2020-10-05  10704.466215  10707.039087  ...    10705.229071 2020-10-05\n",
            "2020-10-06  10727.533888  10722.209229  ...    10728.008600 2020-10-06\n",
            "\n",
            "[3203 rows x 8 columns]\n"
          ],
          "name": "stdout"
        }
      ]
    },
    {
      "cell_type": "code",
      "metadata": {
        "colab": {
          "base_uri": "https://localhost:8080/"
        },
        "id": "k0lhJ2oHARRo",
        "outputId": "ceb199f2-cae2-4bd0-e07a-5c720039aac9"
      },
      "source": [
        "df.isnull().sum()"
      ],
      "execution_count": null,
      "outputs": [
        {
          "output_type": "execute_result",
          "data": {
            "text/plain": [
              "Open                 0\n",
              "High                 0\n",
              "Low                  0\n",
              "Close                0\n",
              "Volume_(BTC)         0\n",
              "Volume_(Currency)    0\n",
              "Weighted_Price       0\n",
              "dtype: int64"
            ]
          },
          "metadata": {
            "tags": []
          },
          "execution_count": 67
        }
      ]
    },
    {
      "cell_type": "markdown",
      "metadata": {
        "id": "V9vZVr8l_VUZ"
      },
      "source": [
        "# **Gestionarea elementelor nule**"
      ]
    },
    {
      "cell_type": "code",
      "metadata": {
        "colab": {
          "base_uri": "https://localhost:8080/"
        },
        "id": "KTdkaHjPmUM9",
        "outputId": "2023148b-94df-431e-c83e-fc12e7981609"
      },
      "source": [
        "# Verificare elemente nule\r\n",
        "df_daily['tmp'].isnull().sum()"
      ],
      "execution_count": null,
      "outputs": [
        {
          "output_type": "execute_result",
          "data": {
            "text/plain": [
              "0"
            ]
          },
          "metadata": {
            "tags": []
          },
          "execution_count": 68
        }
      ]
    },
    {
      "cell_type": "code",
      "metadata": {
        "colab": {
          "base_uri": "https://localhost:8080/"
        },
        "id": "_loX74jvmwHN",
        "outputId": "e3a163da-96ee-4b78-ca1f-7dfbf60ecc65"
      },
      "source": [
        "print(df_daily['tmp'].values)\r\n",
        "# df_daily['tmp'].values.reshape(-1,1)"
      ],
      "execution_count": null,
      "outputs": [
        {
          "output_type": "stream",
          "text": [
            "['2011-12-31T00:00:00.000000000' '2012-01-01T00:00:00.000000000'\n",
            " '2012-01-02T00:00:00.000000000' ... '2020-10-04T00:00:00.000000000'\n",
            " '2020-10-05T00:00:00.000000000' '2020-10-06T00:00:00.000000000']\n"
          ],
          "name": "stdout"
        }
      ]
    },
    {
      "cell_type": "code",
      "metadata": {
        "colab": {
          "base_uri": "https://localhost:8080/"
        },
        "id": "kA-waO5AnNiI",
        "outputId": "8a847160-ca3c-4192-d43f-94186355e644"
      },
      "source": [
        "df_daily['Weighted_Price'].isnull().sum()"
      ],
      "execution_count": null,
      "outputs": [
        {
          "output_type": "execute_result",
          "data": {
            "text/plain": [
              "3"
            ]
          },
          "metadata": {
            "tags": []
          },
          "execution_count": 70
        }
      ]
    },
    {
      "cell_type": "code",
      "metadata": {
        "colab": {
          "base_uri": "https://localhost:8080/"
        },
        "id": "nEGwbJltqOEc",
        "outputId": "4eecb660-3eba-4150-fbfc-42fa376382cd"
      },
      "source": [
        "df_daily.isnull().sum()"
      ],
      "execution_count": null,
      "outputs": [
        {
          "output_type": "execute_result",
          "data": {
            "text/plain": [
              "Open                 3\n",
              "High                 3\n",
              "Low                  3\n",
              "Close                3\n",
              "Volume_(BTC)         3\n",
              "Volume_(Currency)    3\n",
              "Weighted_Price       3\n",
              "tmp                  0\n",
              "dtype: int64"
            ]
          },
          "metadata": {
            "tags": []
          },
          "execution_count": 71
        }
      ]
    },
    {
      "cell_type": "code",
      "metadata": {
        "id": "MvejIoHvn7xB"
      },
      "source": [
        "df_daily.dropna(inplace=True)"
      ],
      "execution_count": null,
      "outputs": []
    },
    {
      "cell_type": "code",
      "metadata": {
        "colab": {
          "base_uri": "https://localhost:8080/"
        },
        "id": "-RVzFcYToZlh",
        "outputId": "c9dac1ad-64d7-49e3-9315-4155daf990ac"
      },
      "source": [
        "df_daily.isnull().sum()"
      ],
      "execution_count": null,
      "outputs": [
        {
          "output_type": "execute_result",
          "data": {
            "text/plain": [
              "Open                 0\n",
              "High                 0\n",
              "Low                  0\n",
              "Close                0\n",
              "Volume_(BTC)         0\n",
              "Volume_(Currency)    0\n",
              "Weighted_Price       0\n",
              "tmp                  0\n",
              "dtype: int64"
            ]
          },
          "metadata": {
            "tags": []
          },
          "execution_count": 73
        }
      ]
    },
    {
      "cell_type": "markdown",
      "metadata": {
        "id": "SsrkijgO7zeL"
      },
      "source": [
        "# **Dataset yearly**"
      ]
    },
    {
      "cell_type": "code",
      "metadata": {
        "colab": {
          "base_uri": "https://localhost:8080/",
          "height": 235
        },
        "id": "6vh89KSawANf",
        "outputId": "bb85f98c-506a-4c2e-be72-c3c010ae7e38"
      },
      "source": [
        "df_yearly = df.resample('12M').mean()\r\n",
        "df_yearly.head()"
      ],
      "execution_count": null,
      "outputs": [
        {
          "output_type": "execute_result",
          "data": {
            "text/html": [
              "<div>\n",
              "<style scoped>\n",
              "    .dataframe tbody tr th:only-of-type {\n",
              "        vertical-align: middle;\n",
              "    }\n",
              "\n",
              "    .dataframe tbody tr th {\n",
              "        vertical-align: top;\n",
              "    }\n",
              "\n",
              "    .dataframe thead th {\n",
              "        text-align: right;\n",
              "    }\n",
              "</style>\n",
              "<table border=\"1\" class=\"dataframe\">\n",
              "  <thead>\n",
              "    <tr style=\"text-align: right;\">\n",
              "      <th></th>\n",
              "      <th>Open</th>\n",
              "      <th>High</th>\n",
              "      <th>Low</th>\n",
              "      <th>Close</th>\n",
              "      <th>Volume_(BTC)</th>\n",
              "      <th>Volume_(Currency)</th>\n",
              "      <th>Weighted_Price</th>\n",
              "    </tr>\n",
              "    <tr>\n",
              "      <th>Timestamp</th>\n",
              "      <th></th>\n",
              "      <th></th>\n",
              "      <th></th>\n",
              "      <th></th>\n",
              "      <th></th>\n",
              "      <th></th>\n",
              "      <th></th>\n",
              "    </tr>\n",
              "  </thead>\n",
              "  <tbody>\n",
              "    <tr>\n",
              "      <th>2011-12-31</th>\n",
              "      <td>4.476415</td>\n",
              "      <td>4.478946</td>\n",
              "      <td>4.476415</td>\n",
              "      <td>4.478946</td>\n",
              "      <td>17.940426</td>\n",
              "      <td>79.495594</td>\n",
              "      <td>4.477370</td>\n",
              "    </tr>\n",
              "    <tr>\n",
              "      <th>2012-12-31</th>\n",
              "      <td>8.233084</td>\n",
              "      <td>8.235009</td>\n",
              "      <td>8.230306</td>\n",
              "      <td>8.232210</td>\n",
              "      <td>16.377516</td>\n",
              "      <td>139.649586</td>\n",
              "      <td>8.232582</td>\n",
              "    </tr>\n",
              "    <tr>\n",
              "      <th>2013-12-31</th>\n",
              "      <td>187.436306</td>\n",
              "      <td>187.681208</td>\n",
              "      <td>187.161517</td>\n",
              "      <td>187.426512</td>\n",
              "      <td>13.915605</td>\n",
              "      <td>3219.400491</td>\n",
              "      <td>187.412080</td>\n",
              "    </tr>\n",
              "    <tr>\n",
              "      <th>2014-12-31</th>\n",
              "      <td>525.561363</td>\n",
              "      <td>525.949363</td>\n",
              "      <td>525.162274</td>\n",
              "      <td>525.567830</td>\n",
              "      <td>10.702176</td>\n",
              "      <td>5560.020283</td>\n",
              "      <td>525.544492</td>\n",
              "    </tr>\n",
              "    <tr>\n",
              "      <th>2015-12-31</th>\n",
              "      <td>272.196050</td>\n",
              "      <td>272.316483</td>\n",
              "      <td>272.062738</td>\n",
              "      <td>272.194502</td>\n",
              "      <td>12.411528</td>\n",
              "      <td>3445.986390</td>\n",
              "      <td>272.185093</td>\n",
              "    </tr>\n",
              "  </tbody>\n",
              "</table>\n",
              "</div>"
            ],
            "text/plain": [
              "                  Open        High  ...  Volume_(Currency)  Weighted_Price\n",
              "Timestamp                           ...                                   \n",
              "2011-12-31    4.476415    4.478946  ...          79.495594        4.477370\n",
              "2012-12-31    8.233084    8.235009  ...         139.649586        8.232582\n",
              "2013-12-31  187.436306  187.681208  ...        3219.400491      187.412080\n",
              "2014-12-31  525.561363  525.949363  ...        5560.020283      525.544492\n",
              "2015-12-31  272.196050  272.316483  ...        3445.986390      272.185093\n",
              "\n",
              "[5 rows x 7 columns]"
            ]
          },
          "metadata": {
            "tags": []
          },
          "execution_count": 74
        }
      ]
    },
    {
      "cell_type": "markdown",
      "metadata": {
        "id": "EvxdUGDL74u_"
      },
      "source": [
        "# **Dataset Montly**"
      ]
    },
    {
      "cell_type": "code",
      "metadata": {
        "colab": {
          "base_uri": "https://localhost:8080/",
          "height": 235
        },
        "id": "c2vvBIDuwSaD",
        "outputId": "1a934364-9b5f-490f-c5b9-2cd2ee9d3619"
      },
      "source": [
        "df_monthly = df.resample('1M').mean()\r\n",
        "df_monthly.head()"
      ],
      "execution_count": null,
      "outputs": [
        {
          "output_type": "execute_result",
          "data": {
            "text/html": [
              "<div>\n",
              "<style scoped>\n",
              "    .dataframe tbody tr th:only-of-type {\n",
              "        vertical-align: middle;\n",
              "    }\n",
              "\n",
              "    .dataframe tbody tr th {\n",
              "        vertical-align: top;\n",
              "    }\n",
              "\n",
              "    .dataframe thead th {\n",
              "        text-align: right;\n",
              "    }\n",
              "</style>\n",
              "<table border=\"1\" class=\"dataframe\">\n",
              "  <thead>\n",
              "    <tr style=\"text-align: right;\">\n",
              "      <th></th>\n",
              "      <th>Open</th>\n",
              "      <th>High</th>\n",
              "      <th>Low</th>\n",
              "      <th>Close</th>\n",
              "      <th>Volume_(BTC)</th>\n",
              "      <th>Volume_(Currency)</th>\n",
              "      <th>Weighted_Price</th>\n",
              "    </tr>\n",
              "    <tr>\n",
              "      <th>Timestamp</th>\n",
              "      <th></th>\n",
              "      <th></th>\n",
              "      <th></th>\n",
              "      <th></th>\n",
              "      <th></th>\n",
              "      <th></th>\n",
              "      <th></th>\n",
              "    </tr>\n",
              "  </thead>\n",
              "  <tbody>\n",
              "    <tr>\n",
              "      <th>2011-12-31</th>\n",
              "      <td>4.476415</td>\n",
              "      <td>4.478946</td>\n",
              "      <td>4.476415</td>\n",
              "      <td>4.478946</td>\n",
              "      <td>17.940426</td>\n",
              "      <td>79.495594</td>\n",
              "      <td>4.477370</td>\n",
              "    </tr>\n",
              "    <tr>\n",
              "      <th>2012-01-31</th>\n",
              "      <td>6.205873</td>\n",
              "      <td>6.208926</td>\n",
              "      <td>6.203568</td>\n",
              "      <td>6.206636</td>\n",
              "      <td>5.062630</td>\n",
              "      <td>30.557645</td>\n",
              "      <td>6.205749</td>\n",
              "    </tr>\n",
              "    <tr>\n",
              "      <th>2012-02-29</th>\n",
              "      <td>5.239485</td>\n",
              "      <td>5.240140</td>\n",
              "      <td>5.237452</td>\n",
              "      <td>5.238107</td>\n",
              "      <td>8.246900</td>\n",
              "      <td>42.804255</td>\n",
              "      <td>5.238445</td>\n",
              "    </tr>\n",
              "    <tr>\n",
              "      <th>2012-03-31</th>\n",
              "      <td>4.956081</td>\n",
              "      <td>4.956802</td>\n",
              "      <td>4.950829</td>\n",
              "      <td>4.951425</td>\n",
              "      <td>13.496505</td>\n",
              "      <td>67.005496</td>\n",
              "      <td>4.954135</td>\n",
              "    </tr>\n",
              "    <tr>\n",
              "      <th>2012-04-30</th>\n",
              "      <td>4.980339</td>\n",
              "      <td>4.981768</td>\n",
              "      <td>4.978907</td>\n",
              "      <td>4.980228</td>\n",
              "      <td>18.311532</td>\n",
              "      <td>90.911425</td>\n",
              "      <td>4.980298</td>\n",
              "    </tr>\n",
              "  </tbody>\n",
              "</table>\n",
              "</div>"
            ],
            "text/plain": [
              "                Open      High  ...  Volume_(Currency)  Weighted_Price\n",
              "Timestamp                       ...                                   \n",
              "2011-12-31  4.476415  4.478946  ...          79.495594        4.477370\n",
              "2012-01-31  6.205873  6.208926  ...          30.557645        6.205749\n",
              "2012-02-29  5.239485  5.240140  ...          42.804255        5.238445\n",
              "2012-03-31  4.956081  4.956802  ...          67.005496        4.954135\n",
              "2012-04-30  4.980339  4.981768  ...          90.911425        4.980298\n",
              "\n",
              "[5 rows x 7 columns]"
            ]
          },
          "metadata": {
            "tags": []
          },
          "execution_count": 75
        }
      ]
    },
    {
      "cell_type": "markdown",
      "metadata": {
        "id": "lPVBTiEWqrhV"
      },
      "source": [
        "# **Distribuita pretului mediu pe ani**\r\n",
        "\r\n"
      ]
    },
    {
      "cell_type": "code",
      "metadata": {
        "id": "ztg3pl3Zs7XB"
      },
      "source": [
        "plt.rcParams[\"figure.figsize\"] = (20,10)"
      ],
      "execution_count": null,
      "outputs": []
    },
    {
      "cell_type": "code",
      "metadata": {
        "colab": {
          "base_uri": "https://localhost:8080/",
          "height": 605
        },
        "id": "U8MytxCWk5k5",
        "outputId": "f0b421ac-caa6-4bba-847b-859c1ce518dd"
      },
      "source": [
        "plt.scatter(df_daily['tmp'],df_daily['Weighted_Price'],linewidths=0.0001)"
      ],
      "execution_count": null,
      "outputs": [
        {
          "output_type": "execute_result",
          "data": {
            "text/plain": [
              "<matplotlib.collections.PathCollection at 0x7fca465c0490>"
            ]
          },
          "metadata": {
            "tags": []
          },
          "execution_count": 77
        },
        {
          "output_type": "display_data",
          "data": {
            "image/png": "[encoded data removed]",
            "text/plain": [
              "<Figure size 1440x720 with 1 Axes>"
            ]
          },
          "metadata": {
            "tags": [],
            "needs_background": "light"
          }
        }
      ]
    },
    {
      "cell_type": "code",
      "metadata": {
        "colab": {
          "base_uri": "https://localhost:8080/",
          "height": 605
        },
        "id": "3fhNTOXasjdY",
        "outputId": "360e7c54-e669-4097-9549-8582417a9561"
      },
      "source": [
        "plt.fill_between(df_daily['tmp'],df_daily['Weighted_Price'])"
      ],
      "execution_count": null,
      "outputs": [
        {
          "output_type": "execute_result",
          "data": {
            "text/plain": [
              "<matplotlib.collections.PolyCollection at 0x7fca46561c90>"
            ]
          },
          "metadata": {
            "tags": []
          },
          "execution_count": 78
        },
        {
          "output_type": "display_data",
          "data": {
            "image/png": "[encoded data removed]",
            "text/plain": [
              "<Figure size 1440x720 with 1 Axes>"
            ]
          },
          "metadata": {
            "tags": [],
            "needs_background": "light"
          }
        }
      ]
    },
    {
      "cell_type": "markdown",
      "metadata": {
        "id": "ym2OFnNXurM4"
      },
      "source": [
        "# **Numarul de monede tranzactionate(Volumul) pe ani**"
      ]
    },
    {
      "cell_type": "code",
      "metadata": {
        "id": "JZ1_pKvTrdSt"
      },
      "source": [
        "import seaborn as sns"
      ],
      "execution_count": null,
      "outputs": []
    },
    {
      "cell_type": "code",
      "metadata": {
        "colab": {
          "base_uri": "https://localhost:8080/",
          "height": 673
        },
        "id": "N2g1KwjIrepq",
        "outputId": "7545a584-318b-4cea-f517-3bd3e0aab220"
      },
      "source": [
        "sns.kdeplot(df_daily['tmp'],df_daily['Volume_(BTC)'], shade = True)"
      ],
      "execution_count": null,
      "outputs": [
        {
          "output_type": "stream",
          "text": [
            "/usr/local/lib/python3.7/dist-packages/seaborn/_decorators.py:43: FutureWarning: Pass the following variable as a keyword arg: y. From version 0.12, the only valid positional argument will be `data`, and passing other arguments without an explicit keyword will result in an error or misinterpretation.\n",
            "  FutureWarning\n"
          ],
          "name": "stderr"
        },
        {
          "output_type": "execute_result",
          "data": {
            "text/plain": [
              "<matplotlib.axes._subplots.AxesSubplot at 0x7fca37529750>"
            ]
          },
          "metadata": {
            "tags": []
          },
          "execution_count": 80
        },
        {
          "output_type": "display_data",
          "data": {
            "image/png": "[encoded data removed]",
            "text/plain": [
              "<Figure size 1440x720 with 1 Axes>"
            ]
          },
          "metadata": {
            "tags": [],
            "needs_background": "light"
          }
        }
      ]
    },
    {
      "cell_type": "markdown",
      "metadata": {
        "id": "JXwuca6Gu1cT"
      },
      "source": [
        "# **Linear Regression**"
      ]
    },
    {
      "cell_type": "code",
      "metadata": {
        "colab": {
          "base_uri": "https://localhost:8080/"
        },
        "id": "RGKC0c3FyZfG",
        "outputId": "493c88a5-7a28-4324-b5e7-ad2a071cb052"
      },
      "source": [
        "df_daily.index"
      ],
      "execution_count": null,
      "outputs": [
        {
          "output_type": "execute_result",
          "data": {
            "text/plain": [
              "DatetimeIndex(['2011-12-31', '2012-01-01', '2012-01-02', '2012-01-03',\n",
              "               '2012-01-04', '2012-01-05', '2012-01-06', '2012-01-07',\n",
              "               '2012-01-08', '2012-01-09',\n",
              "               ...\n",
              "               '2020-09-27', '2020-09-28', '2020-09-29', '2020-09-30',\n",
              "               '2020-10-01', '2020-10-02', '2020-10-03', '2020-10-04',\n",
              "               '2020-10-05', '2020-10-06'],\n",
              "              dtype='datetime64[ns]', name='Timestamp', length=3200, freq=None)"
            ]
          },
          "metadata": {
            "tags": []
          },
          "execution_count": 81
        }
      ]
    },
    {
      "cell_type": "code",
      "metadata": {
        "id": "I4X7ak0DzHhi"
      },
      "source": [
        "dff = df.reset_index()"
      ],
      "execution_count": null,
      "outputs": []
    },
    {
      "cell_type": "code",
      "metadata": {
        "colab": {
          "base_uri": "https://localhost:8080/"
        },
        "id": "L-Br98Pot7nY",
        "outputId": "369a361e-c00f-40fd-ee76-6421270d36f7"
      },
      "source": [
        "from sklearn.linear_model import LinearRegression as lr\r\n",
        "\r\n",
        "model1 = lr(copy_X = True, fit_intercept=True, normalize=True)\r\n",
        "\r\n",
        "# X trebuie redimensionat \r\n",
        "X1 = dff.index.values.reshape(-1,1)\r\n",
        "y1 = dff['Weighted_Price']\r\n",
        "# X=df_daily['tmp'].map(df_daily.datetime.toordinal)\r\n",
        "\r\n",
        "m1 = model1.fit(X1,y1)\r\n",
        "print(type(X1))\r\n",
        "print(type(y1))\r\n",
        "\r\n",
        "print(m1.coef_)\r\n",
        "z1 = model1.predict(X1)"
      ],
      "execution_count": null,
      "outputs": [
        {
          "output_type": "stream",
          "text": [
            "<class 'numpy.ndarray'>\n",
            "<class 'pandas.core.series.Series'>\n",
            "[0.00240203]\n"
          ],
          "name": "stdout"
        }
      ]
    },
    {
      "cell_type": "code",
      "metadata": {
        "colab": {
          "base_uri": "https://localhost:8080/",
          "height": 618
        },
        "id": "ImOMyFKo9pmw",
        "outputId": "61b206de-a512-40c5-c6c8-365b29af0926"
      },
      "source": [
        "plt.scatter(X1,y1)\r\n",
        "plt.plot(X1,z1,color='red')"
      ],
      "execution_count": null,
      "outputs": [
        {
          "output_type": "execute_result",
          "data": {
            "text/plain": [
              "[<matplotlib.lines.Line2D at 0x7fca31c8f050>]"
            ]
          },
          "metadata": {
            "tags": []
          },
          "execution_count": 84
        },
        {
          "output_type": "display_data",
          "data": {
            "image/png": "[encoded data removed]",
            "text/plain": [
              "<Figure size 1440x720 with 1 Axes>"
            ]
          },
          "metadata": {
            "tags": [],
            "needs_background": "light"
          }
        }
      ]
    },
    {
      "cell_type": "code",
      "metadata": {
        "colab": {
          "base_uri": "https://localhost:8080/"
        },
        "id": "qjo--qKu0nZp",
        "outputId": "06495e03-ef1a-4055-85a5-bb19d52305d9"
      },
      "source": [
        "from sklearn.linear_model import LinearRegression as lr\r\n",
        "\r\n",
        "model2 = lr(copy_X = True, fit_intercept=True, normalize=True)\r\n",
        "\r\n",
        "# X trebuie redimensionat \r\n",
        "# X = dff['Volume_(BTC)'].values.reshape(-1,1)\r\n",
        "# y = dff['Weighted_Price']\r\n",
        "X2 = dff['Weighted_Price'].values.reshape(-1,1)\r\n",
        "y2 = dff['Volume_(BTC)']\r\n",
        "# X=df_daily['tmp'].map(df_daily.datetime.toordinal)\r\n",
        "\r\n",
        "m2 = model2.fit(X2,y2)\r\n",
        "print(type(X2))\r\n",
        "print(type(y2))\r\n",
        "\r\n",
        "print(m2.coef_)\r\n",
        "z2 = model2.predict(X2)"
      ],
      "execution_count": null,
      "outputs": [
        {
          "output_type": "stream",
          "text": [
            "<class 'numpy.ndarray'>\n",
            "<class 'pandas.core.series.Series'>\n",
            "[-0.00049055]\n"
          ],
          "name": "stdout"
        }
      ]
    },
    {
      "cell_type": "code",
      "metadata": {
        "colab": {
          "base_uri": "https://localhost:8080/",
          "height": 605
        },
        "id": "oTM1ujwS9lpd",
        "outputId": "f5339262-ac73-4478-edb7-2f7ac1c130c1"
      },
      "source": [
        "plt.scatter(X2,y2)\r\n",
        "plt.plot(X2,z2,color='red')"
      ],
      "execution_count": null,
      "outputs": [
        {
          "output_type": "execute_result",
          "data": {
            "text/plain": [
              "[<matplotlib.lines.Line2D at 0x7fca31bf7fd0>]"
            ]
          },
          "metadata": {
            "tags": []
          },
          "execution_count": 86
        },
        {
          "output_type": "display_data",
          "data": {
            "image/png": "[encoded data removed]",
            "text/plain": [
              "<Figure size 1440x720 with 1 Axes>"
            ]
          },
          "metadata": {
            "tags": [],
            "needs_background": "light"
          }
        }
      ]
    },
    {
      "cell_type": "code",
      "metadata": {
        "colab": {
          "base_uri": "https://localhost:8080/"
        },
        "id": "T_tm4CE11hDo",
        "outputId": "974dcc91-151c-432c-eefd-bbc284a883e1"
      },
      "source": [
        "model3 = lr(copy_X = True, fit_intercept=True, normalize=False)\r\n",
        "dff_yearly = df_yearly.reset_index()\r\n",
        "# X trebuie redimensionat \r\n",
        "X3 = dff.index[:,None]\r\n",
        "y3 = dff['Volume_(BTC)']\r\n",
        "# X=df_daily['tmp'].map(df_daily.datetime.toordinal)\r\n",
        "\r\n",
        "m3 = model3.fit(X3,y3)\r\n",
        "print(type(X3))\r\n",
        "print(type(y3))\r\n",
        "\r\n",
        "print(m3.coef_)\r\n",
        "z3 = model3.predict(X3)"
      ],
      "execution_count": null,
      "outputs": [
        {
          "output_type": "stream",
          "text": [
            "/usr/local/lib/python3.7/dist-packages/pandas/core/indexes/range.py:720: FutureWarning: Support for multi-dimensional indexing (e.g. `obj[:, None]`) is deprecated and will be removed in a future version.  Convert to a numpy array before indexing instead.\n",
            "  return super().__getitem__(key)\n"
          ],
          "name": "stderr"
        },
        {
          "output_type": "stream",
          "text": [
            "<class 'numpy.ndarray'>\n",
            "<class 'pandas.core.series.Series'>\n",
            "[-2.41069868e-06]\n"
          ],
          "name": "stdout"
        }
      ]
    },
    {
      "cell_type": "code",
      "metadata": {
        "colab": {
          "base_uri": "https://localhost:8080/",
          "height": 618
        },
        "id": "h0-uGdmj9aKw",
        "outputId": "d3f21fab-b254-4470-d163-7c7d75209798"
      },
      "source": [
        "plt.scatter(X3,y3)\r\n",
        "plt.plot(X3,z3,color='red')"
      ],
      "execution_count": null,
      "outputs": [
        {
          "output_type": "execute_result",
          "data": {
            "text/plain": [
              "[<matplotlib.lines.Line2D at 0x7fca31b95110>]"
            ]
          },
          "metadata": {
            "tags": []
          },
          "execution_count": 88
        },
        {
          "output_type": "display_data",
          "data": {
            "image/png": "[encoded data removed]",
            "text/plain": [
              "<Figure size 1440x720 with 1 Axes>"
            ]
          },
          "metadata": {
            "tags": [],
            "needs_background": "light"
          }
        }
      ]
    },
    {
      "cell_type": "code",
      "metadata": {
        "colab": {
          "base_uri": "https://localhost:8080/"
        },
        "id": "GtyTWmq-26FQ",
        "outputId": "6060fdbf-3d3f-4fb3-b029-9de5f5a9de48"
      },
      "source": [
        "model4 = lr(copy_X = True, fit_intercept=True, normalize=False)\r\n",
        "dff_yearly = df_yearly.reset_index()\r\n",
        "# X trebuie redimensionat \r\n",
        "y4 = dff['Volume_(BTC)']\r\n",
        "X4 = dff['Volume_(Currency)'][:,None]\r\n",
        "# X=df_daily['tmp'].map(df_daily.datetime.toordinal)\r\n",
        "\r\n",
        "m4 = model4.fit(X4,y4)\r\n",
        "print(type(X4))\r\n",
        "print(type(y4))\r\n",
        "\r\n",
        "print(m4.coef_)\r\n",
        "z4 = model4.predict(X4)"
      ],
      "execution_count": null,
      "outputs": [
        {
          "output_type": "stream",
          "text": [
            "/usr/local/lib/python3.7/dist-packages/ipykernel_launcher.py:5: FutureWarning: Support for multi-dimensional indexing (e.g. `obj[:, None]`) is deprecated and will be removed in a future version.  Convert to a numpy array before indexing instead.\n",
            "  \"\"\"\n"
          ],
          "name": "stderr"
        },
        {
          "output_type": "stream",
          "text": [
            "<class 'numpy.ndarray'>\n",
            "<class 'pandas.core.series.Series'>\n",
            "[0.00012613]\n"
          ],
          "name": "stdout"
        }
      ]
    },
    {
      "cell_type": "code",
      "metadata": {
        "colab": {
          "base_uri": "https://localhost:8080/",
          "height": 618
        },
        "id": "Y1C0FphSt_RT",
        "outputId": "7bc76f9d-7901-48af-9d6b-32844d4e873f"
      },
      "source": [
        "plt.scatter(X4,y4)\r\n",
        "plt.plot(X4,z4,color='red')"
      ],
      "execution_count": null,
      "outputs": [
        {
          "output_type": "execute_result",
          "data": {
            "text/plain": [
              "[<matplotlib.lines.Line2D at 0x7fca31b05050>]"
            ]
          },
          "metadata": {
            "tags": []
          },
          "execution_count": 90
        },
        {
          "output_type": "display_data",
          "data": {
            "image/png": "[encoded data removed]",
            "text/plain": [
              "<Figure size 1440x720 with 1 Axes>"
            ]
          },
          "metadata": {
            "tags": [],
            "needs_background": "light"
          }
        }
      ]
    },
    {
      "cell_type": "markdown",
      "metadata": {
        "id": "AS_AibNf1-s5"
      },
      "source": [
        "# **Functie pentru regresia dintre 2 variabile pe o anumita perioada de timp**\r\n",
        "## **Interval mai dens si sa vedem local pe cea originala cu valori multe, sa compar de ex 2 saptamani , daca volum a influentat pretul.Pe intervalele alese pe cateva sute de valori Histograme + Histograme 2D**"
      ]
    },
    {
      "cell_type": "code",
      "metadata": {
        "id": "vKi0h80A2EfU"
      },
      "source": [
        "test_db = pd.read_csv('BitcoinUSD.csv')"
      ],
      "execution_count": null,
      "outputs": []
    },
    {
      "cell_type": "code",
      "metadata": {
        "colab": {
          "base_uri": "https://localhost:8080/",
          "height": 204
        },
        "id": "aI5Z6sUs2UeI",
        "outputId": "9ac511ef-d271-411b-f7f4-701eb4e1f022"
      },
      "source": [
        "test_db.head()"
      ],
      "execution_count": null,
      "outputs": [
        {
          "output_type": "execute_result",
          "data": {
            "text/html": [
              "<div>\n",
              "<style scoped>\n",
              "    .dataframe tbody tr th:only-of-type {\n",
              "        vertical-align: middle;\n",
              "    }\n",
              "\n",
              "    .dataframe tbody tr th {\n",
              "        vertical-align: top;\n",
              "    }\n",
              "\n",
              "    .dataframe thead th {\n",
              "        text-align: right;\n",
              "    }\n",
              "</style>\n",
              "<table border=\"1\" class=\"dataframe\">\n",
              "  <thead>\n",
              "    <tr style=\"text-align: right;\">\n",
              "      <th></th>\n",
              "      <th>Timestamp</th>\n",
              "      <th>Open</th>\n",
              "      <th>High</th>\n",
              "      <th>Low</th>\n",
              "      <th>Close</th>\n",
              "      <th>Volume_(BTC)</th>\n",
              "      <th>Volume_(Currency)</th>\n",
              "      <th>Weighted_Price</th>\n",
              "    </tr>\n",
              "  </thead>\n",
              "  <tbody>\n",
              "    <tr>\n",
              "      <th>0</th>\n",
              "      <td>1325317920</td>\n",
              "      <td>4.39</td>\n",
              "      <td>4.39</td>\n",
              "      <td>4.39</td>\n",
              "      <td>4.39</td>\n",
              "      <td>0.455581</td>\n",
              "      <td>2.0</td>\n",
              "      <td>4.39</td>\n",
              "    </tr>\n",
              "    <tr>\n",
              "      <th>1</th>\n",
              "      <td>1325317980</td>\n",
              "      <td>NaN</td>\n",
              "      <td>NaN</td>\n",
              "      <td>NaN</td>\n",
              "      <td>NaN</td>\n",
              "      <td>NaN</td>\n",
              "      <td>NaN</td>\n",
              "      <td>NaN</td>\n",
              "    </tr>\n",
              "    <tr>\n",
              "      <th>2</th>\n",
              "      <td>1325318040</td>\n",
              "      <td>NaN</td>\n",
              "      <td>NaN</td>\n",
              "      <td>NaN</td>\n",
              "      <td>NaN</td>\n",
              "      <td>NaN</td>\n",
              "      <td>NaN</td>\n",
              "      <td>NaN</td>\n",
              "    </tr>\n",
              "    <tr>\n",
              "      <th>3</th>\n",
              "      <td>1325318100</td>\n",
              "      <td>NaN</td>\n",
              "      <td>NaN</td>\n",
              "      <td>NaN</td>\n",
              "      <td>NaN</td>\n",
              "      <td>NaN</td>\n",
              "      <td>NaN</td>\n",
              "      <td>NaN</td>\n",
              "    </tr>\n",
              "    <tr>\n",
              "      <th>4</th>\n",
              "      <td>1325318160</td>\n",
              "      <td>NaN</td>\n",
              "      <td>NaN</td>\n",
              "      <td>NaN</td>\n",
              "      <td>NaN</td>\n",
              "      <td>NaN</td>\n",
              "      <td>NaN</td>\n",
              "      <td>NaN</td>\n",
              "    </tr>\n",
              "  </tbody>\n",
              "</table>\n",
              "</div>"
            ],
            "text/plain": [
              "    Timestamp  Open  High  ...  Volume_(BTC)  Volume_(Currency)  Weighted_Price\n",
              "0  1325317920  4.39  4.39  ...      0.455581                2.0            4.39\n",
              "1  1325317980   NaN   NaN  ...           NaN                NaN             NaN\n",
              "2  1325318040   NaN   NaN  ...           NaN                NaN             NaN\n",
              "3  1325318100   NaN   NaN  ...           NaN                NaN             NaN\n",
              "4  1325318160   NaN   NaN  ...           NaN                NaN             NaN\n",
              "\n",
              "[5 rows x 8 columns]"
            ]
          },
          "metadata": {
            "tags": []
          },
          "execution_count": 92
        }
      ]
    },
    {
      "cell_type": "code",
      "metadata": {
        "id": "HGcw-JX_25ag"
      },
      "source": [
        "test_db = test_db.dropna()"
      ],
      "execution_count": null,
      "outputs": []
    },
    {
      "cell_type": "code",
      "metadata": {
        "colab": {
          "base_uri": "https://localhost:8080/",
          "height": 204
        },
        "id": "gseDYegm3deJ",
        "outputId": "da635352-50bc-4bbe-a507-e402605dd10a"
      },
      "source": [
        "test_db.head()"
      ],
      "execution_count": null,
      "outputs": [
        {
          "output_type": "execute_result",
          "data": {
            "text/html": [
              "<div>\n",
              "<style scoped>\n",
              "    .dataframe tbody tr th:only-of-type {\n",
              "        vertical-align: middle;\n",
              "    }\n",
              "\n",
              "    .dataframe tbody tr th {\n",
              "        vertical-align: top;\n",
              "    }\n",
              "\n",
              "    .dataframe thead th {\n",
              "        text-align: right;\n",
              "    }\n",
              "</style>\n",
              "<table border=\"1\" class=\"dataframe\">\n",
              "  <thead>\n",
              "    <tr style=\"text-align: right;\">\n",
              "      <th></th>\n",
              "      <th>Timestamp</th>\n",
              "      <th>Open</th>\n",
              "      <th>High</th>\n",
              "      <th>Low</th>\n",
              "      <th>Close</th>\n",
              "      <th>Volume_(BTC)</th>\n",
              "      <th>Volume_(Currency)</th>\n",
              "      <th>Weighted_Price</th>\n",
              "    </tr>\n",
              "  </thead>\n",
              "  <tbody>\n",
              "    <tr>\n",
              "      <th>0</th>\n",
              "      <td>1325317920</td>\n",
              "      <td>4.39</td>\n",
              "      <td>4.39</td>\n",
              "      <td>4.39</td>\n",
              "      <td>4.39</td>\n",
              "      <td>0.455581</td>\n",
              "      <td>2.000000</td>\n",
              "      <td>4.390000</td>\n",
              "    </tr>\n",
              "    <tr>\n",
              "      <th>478</th>\n",
              "      <td>1325346600</td>\n",
              "      <td>4.39</td>\n",
              "      <td>4.39</td>\n",
              "      <td>4.39</td>\n",
              "      <td>4.39</td>\n",
              "      <td>48.000000</td>\n",
              "      <td>210.720000</td>\n",
              "      <td>4.390000</td>\n",
              "    </tr>\n",
              "    <tr>\n",
              "      <th>547</th>\n",
              "      <td>1325350740</td>\n",
              "      <td>4.50</td>\n",
              "      <td>4.57</td>\n",
              "      <td>4.50</td>\n",
              "      <td>4.57</td>\n",
              "      <td>37.862297</td>\n",
              "      <td>171.380338</td>\n",
              "      <td>4.526411</td>\n",
              "    </tr>\n",
              "    <tr>\n",
              "      <th>548</th>\n",
              "      <td>1325350800</td>\n",
              "      <td>4.58</td>\n",
              "      <td>4.58</td>\n",
              "      <td>4.58</td>\n",
              "      <td>4.58</td>\n",
              "      <td>9.000000</td>\n",
              "      <td>41.220000</td>\n",
              "      <td>4.580000</td>\n",
              "    </tr>\n",
              "    <tr>\n",
              "      <th>1224</th>\n",
              "      <td>1325391360</td>\n",
              "      <td>4.58</td>\n",
              "      <td>4.58</td>\n",
              "      <td>4.58</td>\n",
              "      <td>4.58</td>\n",
              "      <td>1.502000</td>\n",
              "      <td>6.879160</td>\n",
              "      <td>4.580000</td>\n",
              "    </tr>\n",
              "  </tbody>\n",
              "</table>\n",
              "</div>"
            ],
            "text/plain": [
              "       Timestamp  Open  High  ...  Volume_(BTC)  Volume_(Currency)  Weighted_Price\n",
              "0     1325317920  4.39  4.39  ...      0.455581           2.000000        4.390000\n",
              "478   1325346600  4.39  4.39  ...     48.000000         210.720000        4.390000\n",
              "547   1325350740  4.50  4.57  ...     37.862297         171.380338        4.526411\n",
              "548   1325350800  4.58  4.58  ...      9.000000          41.220000        4.580000\n",
              "1224  1325391360  4.58  4.58  ...      1.502000           6.879160        4.580000\n",
              "\n",
              "[5 rows x 8 columns]"
            ]
          },
          "metadata": {
            "tags": []
          },
          "execution_count": 94
        }
      ]
    },
    {
      "cell_type": "markdown",
      "metadata": {
        "id": "yEvQk1Pm4B3H"
      },
      "source": [
        "Timestamp to datetime"
      ]
    },
    {
      "cell_type": "code",
      "metadata": {
        "id": "RMt0SAa34A8n"
      },
      "source": [
        "test_db['Timestamp'] = [datetime.fromtimestamp(x) for x in test_db['Timestamp']]\r\n",
        "test_db = test_db.set_index('Timestamp')"
      ],
      "execution_count": null,
      "outputs": []
    },
    {
      "cell_type": "code",
      "metadata": {
        "colab": {
          "base_uri": "https://localhost:8080/",
          "height": 450
        },
        "id": "TQr1cpVL3ktG",
        "outputId": "f3a617e5-676b-49a1-fa48-3066927641ef"
      },
      "source": [
        "test_daily = test_db.resample(\"24H\").mean() \r\n",
        "# print(df_daily.shape)\r\n",
        "test_daily.head(-20)"
      ],
      "execution_count": null,
      "outputs": [
        {
          "output_type": "execute_result",
          "data": {
            "text/html": [
              "<div>\n",
              "<style scoped>\n",
              "    .dataframe tbody tr th:only-of-type {\n",
              "        vertical-align: middle;\n",
              "    }\n",
              "\n",
              "    .dataframe tbody tr th {\n",
              "        vertical-align: top;\n",
              "    }\n",
              "\n",
              "    .dataframe thead th {\n",
              "        text-align: right;\n",
              "    }\n",
              "</style>\n",
              "<table border=\"1\" class=\"dataframe\">\n",
              "  <thead>\n",
              "    <tr style=\"text-align: right;\">\n",
              "      <th></th>\n",
              "      <th>Open</th>\n",
              "      <th>High</th>\n",
              "      <th>Low</th>\n",
              "      <th>Close</th>\n",
              "      <th>Volume_(BTC)</th>\n",
              "      <th>Volume_(Currency)</th>\n",
              "      <th>Weighted_Price</th>\n",
              "    </tr>\n",
              "    <tr>\n",
              "      <th>Timestamp</th>\n",
              "      <th></th>\n",
              "      <th></th>\n",
              "      <th></th>\n",
              "      <th></th>\n",
              "      <th></th>\n",
              "      <th></th>\n",
              "      <th></th>\n",
              "    </tr>\n",
              "  </thead>\n",
              "  <tbody>\n",
              "    <tr>\n",
              "      <th>2011-12-31</th>\n",
              "      <td>4.465000</td>\n",
              "      <td>4.482500</td>\n",
              "      <td>4.465000</td>\n",
              "      <td>4.482500</td>\n",
              "      <td>23.829470</td>\n",
              "      <td>106.330084</td>\n",
              "      <td>4.471603</td>\n",
              "    </tr>\n",
              "    <tr>\n",
              "      <th>2012-01-01</th>\n",
              "      <td>4.806667</td>\n",
              "      <td>4.806667</td>\n",
              "      <td>4.806667</td>\n",
              "      <td>4.806667</td>\n",
              "      <td>7.200667</td>\n",
              "      <td>35.259720</td>\n",
              "      <td>4.806667</td>\n",
              "    </tr>\n",
              "    <tr>\n",
              "      <th>2012-01-02</th>\n",
              "      <td>5.000000</td>\n",
              "      <td>5.000000</td>\n",
              "      <td>5.000000</td>\n",
              "      <td>5.000000</td>\n",
              "      <td>19.048000</td>\n",
              "      <td>95.240000</td>\n",
              "      <td>5.000000</td>\n",
              "    </tr>\n",
              "    <tr>\n",
              "      <th>2012-01-03</th>\n",
              "      <td>5.252500</td>\n",
              "      <td>5.252500</td>\n",
              "      <td>5.252500</td>\n",
              "      <td>5.252500</td>\n",
              "      <td>11.004660</td>\n",
              "      <td>58.100651</td>\n",
              "      <td>5.252500</td>\n",
              "    </tr>\n",
              "    <tr>\n",
              "      <th>2012-01-04</th>\n",
              "      <td>5.200000</td>\n",
              "      <td>5.223333</td>\n",
              "      <td>5.200000</td>\n",
              "      <td>5.223333</td>\n",
              "      <td>11.914807</td>\n",
              "      <td>63.119577</td>\n",
              "      <td>5.208159</td>\n",
              "    </tr>\n",
              "    <tr>\n",
              "      <th>...</th>\n",
              "      <td>...</td>\n",
              "      <td>...</td>\n",
              "      <td>...</td>\n",
              "      <td>...</td>\n",
              "      <td>...</td>\n",
              "      <td>...</td>\n",
              "      <td>...</td>\n",
              "    </tr>\n",
              "    <tr>\n",
              "      <th>2020-12-07</th>\n",
              "      <td>19199.665847</td>\n",
              "      <td>19206.816542</td>\n",
              "      <td>19191.190833</td>\n",
              "      <td>19199.308979</td>\n",
              "      <td>3.002271</td>\n",
              "      <td>57579.578037</td>\n",
              "      <td>19198.998589</td>\n",
              "    </tr>\n",
              "    <tr>\n",
              "      <th>2020-12-08</th>\n",
              "      <td>18942.317028</td>\n",
              "      <td>18951.525715</td>\n",
              "      <td>18932.566604</td>\n",
              "      <td>18942.533208</td>\n",
              "      <td>4.152754</td>\n",
              "      <td>78069.694910</td>\n",
              "      <td>18942.096815</td>\n",
              "    </tr>\n",
              "    <tr>\n",
              "      <th>2020-12-09</th>\n",
              "      <td>18265.518347</td>\n",
              "      <td>18276.763708</td>\n",
              "      <td>18254.652194</td>\n",
              "      <td>18266.172181</td>\n",
              "      <td>6.185379</td>\n",
              "      <td>112804.344035</td>\n",
              "      <td>18265.613948</td>\n",
              "    </tr>\n",
              "    <tr>\n",
              "      <th>2020-12-10</th>\n",
              "      <td>18303.100625</td>\n",
              "      <td>18312.239243</td>\n",
              "      <td>18294.205299</td>\n",
              "      <td>18303.671063</td>\n",
              "      <td>4.711427</td>\n",
              "      <td>86012.704324</td>\n",
              "      <td>18303.163094</td>\n",
              "    </tr>\n",
              "    <tr>\n",
              "      <th>2020-12-11</th>\n",
              "      <td>17937.229138</td>\n",
              "      <td>17947.310243</td>\n",
              "      <td>17926.759555</td>\n",
              "      <td>17937.385949</td>\n",
              "      <td>4.647618</td>\n",
              "      <td>83180.456624</td>\n",
              "      <td>17937.337421</td>\n",
              "    </tr>\n",
              "  </tbody>\n",
              "</table>\n",
              "<p>3269 rows × 7 columns</p>\n",
              "</div>"
            ],
            "text/plain": [
              "                    Open          High  ...  Volume_(Currency)  Weighted_Price\n",
              "Timestamp                               ...                                   \n",
              "2011-12-31      4.465000      4.482500  ...         106.330084        4.471603\n",
              "2012-01-01      4.806667      4.806667  ...          35.259720        4.806667\n",
              "2012-01-02      5.000000      5.000000  ...          95.240000        5.000000\n",
              "2012-01-03      5.252500      5.252500  ...          58.100651        5.252500\n",
              "2012-01-04      5.200000      5.223333  ...          63.119577        5.208159\n",
              "...                  ...           ...  ...                ...             ...\n",
              "2020-12-07  19199.665847  19206.816542  ...       57579.578037    19198.998589\n",
              "2020-12-08  18942.317028  18951.525715  ...       78069.694910    18942.096815\n",
              "2020-12-09  18265.518347  18276.763708  ...      112804.344035    18265.613948\n",
              "2020-12-10  18303.100625  18312.239243  ...       86012.704324    18303.163094\n",
              "2020-12-11  17937.229138  17947.310243  ...       83180.456624    17937.337421\n",
              "\n",
              "[3269 rows x 7 columns]"
            ]
          },
          "metadata": {
            "tags": []
          },
          "execution_count": 96
        }
      ]
    },
    {
      "cell_type": "code",
      "metadata": {
        "id": "MSiroYfWIIAb"
      },
      "source": [
        "test_db['tmp'] = test_db.index"
      ],
      "execution_count": null,
      "outputs": []
    },
    {
      "cell_type": "code",
      "metadata": {
        "colab": {
          "base_uri": "https://localhost:8080/",
          "height": 605
        },
        "id": "1RuWzF2z2fmj",
        "outputId": "79f99d60-6aa9-4973-c24f-065a32d4801f"
      },
      "source": [
        "plt.scatter(test_db['tmp']['2018-1-1':'2020-1-1'],test_db['Volume_(BTC)']['2018-1-1':'2020-1-1'] , alpha=0.5)"
      ],
      "execution_count": null,
      "outputs": [
        {
          "output_type": "execute_result",
          "data": {
            "text/plain": [
              "<matplotlib.collections.PathCollection at 0x7fca31b21a10>"
            ]
          },
          "metadata": {
            "tags": []
          },
          "execution_count": 98
        },
        {
          "output_type": "display_data",
          "data": {
            "image/png": "[encoded data removed]",
            "text/plain": [
              "<Figure size 1440x720 with 1 Axes>"
            ]
          },
          "metadata": {
            "tags": [],
            "needs_background": "light"
          }
        }
      ]
    },
    {
      "cell_type": "markdown",
      "metadata": {
        "id": "vTr6FOzyIbkp"
      },
      "source": [
        "# **Regresie , volumul(BTC) pe o perioada anume de timp**"
      ]
    },
    {
      "cell_type": "code",
      "metadata": {
        "colab": {
          "base_uri": "https://localhost:8080/"
        },
        "id": "m1oiSSKfKyFs",
        "outputId": "f30f9061-6f7f-4e18-c0c2-571d0ef6db50"
      },
      "source": [
        "x = test_db['tmp']['2018-1-1':'2020-1-1']\r\n",
        "y = test_db['Weighted_Price']['2018-1-1':'2020-1-1']\r\n",
        "print(len(x))\r\n",
        "print(len(y))\r\n",
        "print(type(x))\r\n",
        "print(type(y))"
      ],
      "execution_count": null,
      "outputs": [
        {
          "output_type": "stream",
          "text": [
            "1015508\n",
            "1015508\n",
            "<class 'pandas.core.series.Series'>\n",
            "<class 'pandas.core.series.Series'>\n"
          ],
          "name": "stdout"
        }
      ]
    },
    {
      "cell_type": "code",
      "metadata": {
        "colab": {
          "base_uri": "https://localhost:8080/"
        },
        "id": "wC5VuQMALCwA",
        "outputId": "c09dea94-9eeb-4b45-cea5-4374eda8ff08"
      },
      "source": [
        "# Reshape x\r\n",
        "\r\n",
        "x1 = x.values.reshape(-1,1)\r\n",
        "x2 = x[:,None]\r\n",
        "print(x1.shape)\r\n",
        "print(x2.shape)\r\n",
        "x3 = x.to_numpy()\r\n",
        "x3 = x3.reshape(-1,1)\r\n",
        "print(x3.shape)"
      ],
      "execution_count": null,
      "outputs": [
        {
          "output_type": "stream",
          "text": [
            "(1015508, 1)\n",
            "(1015508, 1)\n",
            "(1015508, 1)\n"
          ],
          "name": "stdout"
        },
        {
          "output_type": "stream",
          "text": [
            "/usr/local/lib/python3.7/dist-packages/ipykernel_launcher.py:4: FutureWarning: Support for multi-dimensional indexing (e.g. `obj[:, None]`) is deprecated and will be removed in a future version.  Convert to a numpy array before indexing instead.\n",
            "  after removing the cwd from sys.path.\n"
          ],
          "name": "stderr"
        }
      ]
    },
    {
      "cell_type": "code",
      "metadata": {
        "id": "RfFJwRfH4X8A",
        "colab": {
          "base_uri": "https://localhost:8080/",
          "height": 391
        },
        "outputId": "92772f73-c586-41e1-a995-ee3c91f96512"
      },
      "source": [
        "model_test = lr(copy_X = True, fit_intercept=True, normalize=True)\r\n",
        "\r\n",
        "# x = test_db['tmp']['2018-1-1':'2020-1-1']\r\n",
        "# print(x)\r\n",
        "\r\n",
        "# X trebuie redimensionat \r\n",
        "X_test = x3\r\n",
        "y_test = y\r\n",
        "# X=df_daily['tmp'].map(df_daily.datetime.toordinal)\r\n",
        "\r\n",
        "m_test = model_test.fit(X_test,y_test)\r\n",
        "print(type(X_test))\r\n",
        "print(type(y_test))\r\n",
        "\r\n",
        "print(m_test.coef_)\r\n",
        "z_test = model_test.predict(X_test)"
      ],
      "execution_count": null,
      "outputs": [
        {
          "output_type": "stream",
          "text": [
            "<class 'numpy.ndarray'>\n",
            "<class 'pandas.core.series.Series'>\n",
            "[-8.32235547e-15]\n"
          ],
          "name": "stdout"
        },
        {
          "output_type": "error",
          "ename": "TypeError",
          "evalue": "ignored",
          "traceback": [
            "\u001b[0;31m---------------------------------------------------------------------------\u001b[0m",
            "\u001b[0;31mTypeError\u001b[0m                                 Traceback (most recent call last)",
            "\u001b[0;32m<ipython-input-101-f2942ca39e2b>\u001b[0m in \u001b[0;36m<module>\u001b[0;34m()\u001b[0m\n\u001b[1;32m     14\u001b[0m \u001b[0;34m\u001b[0m\u001b[0m\n\u001b[1;32m     15\u001b[0m \u001b[0mprint\u001b[0m\u001b[0;34m(\u001b[0m\u001b[0mm_test\u001b[0m\u001b[0;34m.\u001b[0m\u001b[0mcoef_\u001b[0m\u001b[0;34m)\u001b[0m\u001b[0;34m\u001b[0m\u001b[0;34m\u001b[0m\u001b[0m\n\u001b[0;32m---> 16\u001b[0;31m \u001b[0mz_test\u001b[0m \u001b[0;34m=\u001b[0m \u001b[0mmodel_test\u001b[0m\u001b[0;34m.\u001b[0m\u001b[0mpredict\u001b[0m\u001b[0;34m(\u001b[0m\u001b[0mX_test\u001b[0m\u001b[0;34m)\u001b[0m\u001b[0;34m\u001b[0m\u001b[0;34m\u001b[0m\u001b[0m\n\u001b[0m",
            "\u001b[0;32m/usr/local/lib/python3.7/dist-packages/sklearn/linear_model/_base.py\u001b[0m in \u001b[0;36mpredict\u001b[0;34m(self, X)\u001b[0m\n\u001b[1;32m    223\u001b[0m             \u001b[0mReturns\u001b[0m \u001b[0mpredicted\u001b[0m \u001b[0mvalues\u001b[0m\u001b[0;34m.\u001b[0m\u001b[0;34m\u001b[0m\u001b[0;34m\u001b[0m\u001b[0m\n\u001b[1;32m    224\u001b[0m         \"\"\"\n\u001b[0;32m--> 225\u001b[0;31m         \u001b[0;32mreturn\u001b[0m \u001b[0mself\u001b[0m\u001b[0;34m.\u001b[0m\u001b[0m_decision_function\u001b[0m\u001b[0;34m(\u001b[0m\u001b[0mX\u001b[0m\u001b[0;34m)\u001b[0m\u001b[0;34m\u001b[0m\u001b[0;34m\u001b[0m\u001b[0m\n\u001b[0m\u001b[1;32m    226\u001b[0m \u001b[0;34m\u001b[0m\u001b[0m\n\u001b[1;32m    227\u001b[0m     \u001b[0m_preprocess_data\u001b[0m \u001b[0;34m=\u001b[0m \u001b[0mstaticmethod\u001b[0m\u001b[0;34m(\u001b[0m\u001b[0m_preprocess_data\u001b[0m\u001b[0;34m)\u001b[0m\u001b[0;34m\u001b[0m\u001b[0;34m\u001b[0m\u001b[0m\n",
            "\u001b[0;32m/usr/local/lib/python3.7/dist-packages/sklearn/linear_model/_base.py\u001b[0m in \u001b[0;36m_decision_function\u001b[0;34m(self, X)\u001b[0m\n\u001b[1;32m    207\u001b[0m         \u001b[0mX\u001b[0m \u001b[0;34m=\u001b[0m \u001b[0mcheck_array\u001b[0m\u001b[0;34m(\u001b[0m\u001b[0mX\u001b[0m\u001b[0;34m,\u001b[0m \u001b[0maccept_sparse\u001b[0m\u001b[0;34m=\u001b[0m\u001b[0;34m[\u001b[0m\u001b[0;34m'csr'\u001b[0m\u001b[0;34m,\u001b[0m \u001b[0;34m'csc'\u001b[0m\u001b[0;34m,\u001b[0m \u001b[0;34m'coo'\u001b[0m\u001b[0;34m]\u001b[0m\u001b[0;34m)\u001b[0m\u001b[0;34m\u001b[0m\u001b[0;34m\u001b[0m\u001b[0m\n\u001b[1;32m    208\u001b[0m         return safe_sparse_dot(X, self.coef_.T,\n\u001b[0;32m--> 209\u001b[0;31m                                dense_output=True) + self.intercept_\n\u001b[0m\u001b[1;32m    210\u001b[0m \u001b[0;34m\u001b[0m\u001b[0m\n\u001b[1;32m    211\u001b[0m     \u001b[0;32mdef\u001b[0m \u001b[0mpredict\u001b[0m\u001b[0;34m(\u001b[0m\u001b[0mself\u001b[0m\u001b[0;34m,\u001b[0m \u001b[0mX\u001b[0m\u001b[0;34m)\u001b[0m\u001b[0;34m:\u001b[0m\u001b[0;34m\u001b[0m\u001b[0;34m\u001b[0m\u001b[0m\n",
            "\u001b[0;32m/usr/local/lib/python3.7/dist-packages/sklearn/utils/extmath.py\u001b[0m in \u001b[0;36msafe_sparse_dot\u001b[0;34m(a, b, dense_output)\u001b[0m\n\u001b[1;32m    149\u001b[0m             \u001b[0mret\u001b[0m \u001b[0;34m=\u001b[0m \u001b[0mnp\u001b[0m\u001b[0;34m.\u001b[0m\u001b[0mdot\u001b[0m\u001b[0;34m(\u001b[0m\u001b[0ma\u001b[0m\u001b[0;34m,\u001b[0m \u001b[0mb\u001b[0m\u001b[0;34m)\u001b[0m\u001b[0;34m\u001b[0m\u001b[0;34m\u001b[0m\u001b[0m\n\u001b[1;32m    150\u001b[0m     \u001b[0;32melse\u001b[0m\u001b[0;34m:\u001b[0m\u001b[0;34m\u001b[0m\u001b[0;34m\u001b[0m\u001b[0m\n\u001b[0;32m--> 151\u001b[0;31m         \u001b[0mret\u001b[0m \u001b[0;34m=\u001b[0m \u001b[0ma\u001b[0m \u001b[0;34m@\u001b[0m \u001b[0mb\u001b[0m\u001b[0;34m\u001b[0m\u001b[0;34m\u001b[0m\u001b[0m\n\u001b[0m\u001b[1;32m    152\u001b[0m \u001b[0;34m\u001b[0m\u001b[0m\n\u001b[1;32m    153\u001b[0m     if (sparse.issparse(a) and sparse.issparse(b)\n",
            "\u001b[0;31mTypeError\u001b[0m: invalid type promotion"
          ]
        }
      ]
    },
    {
      "cell_type": "code",
      "metadata": {
        "id": "w0Q_LMNKJxDT"
      },
      "source": [
        "plt.scatter(X_test,y_test)\r\n",
        "plt.plot(X_test,z_test,color='red')"
      ],
      "execution_count": null,
      "outputs": []
    },
    {
      "cell_type": "markdown",
      "metadata": {
        "id": "mpxUTQX88XIA"
      },
      "source": [
        "## **test szabi under here**"
      ]
    },
    {
      "cell_type": "code",
      "metadata": {
        "colab": {
          "base_uri": "https://localhost:8080/",
          "height": 705
        },
        "id": "nqpKgc8o8UZr",
        "outputId": "ce371e97-1a19-478c-8578-dfb6e301ac04"
      },
      "source": [
        "dfr = None\r\n",
        "dfr = pd.read_csv('BitcoinUSD.csv')\r\n",
        "dfr.dropna(inplace=True)\r\n",
        "dfr['Timestamp'] = [datetime.fromtimestamp(x) for x in dfr['Timestamp']]\r\n",
        "dfr = dfr.set_index('Timestamp')\r\n",
        "dfr_daily = dfr.resample(\"24H\").mean() \r\n",
        "dfr_daily['tmp'] = dfr_daily.index\r\n",
        "print(dfr_daily)\r\n",
        "dfr_daily = dfr.resample(\"24H\").mean() \r\n",
        "# print(df_daily.shape)\r\n",
        "dfr_daily.head(1753)\r\n",
        "\r\n",
        "\r\n"
      ],
      "execution_count": null,
      "outputs": [
        {
          "output_type": "stream",
          "text": [
            "                    Open          High  ...  Weighted_Price        tmp\n",
            "Timestamp                               ...                           \n",
            "2011-12-31      4.465000      4.482500  ...        4.471603 2011-12-31\n",
            "2012-01-01      4.806667      4.806667  ...        4.806667 2012-01-01\n",
            "2012-01-02      5.000000      5.000000  ...        5.000000 2012-01-02\n",
            "2012-01-03      5.252500      5.252500  ...        5.252500 2012-01-03\n",
            "2012-01-04      5.200000      5.223333  ...        5.208159 2012-01-04\n",
            "...                  ...           ...  ...             ...        ...\n",
            "2020-12-27  27045.516160  27071.948215  ...    27043.386470 2020-12-27\n",
            "2020-12-28  26963.081993  26984.362924  ...    26964.020499 2020-12-28\n",
            "2020-12-29  26671.013021  26689.382486  ...    26671.008099 2020-12-29\n",
            "2020-12-30  28141.217201  28164.193854  ...    28141.234408 2020-12-30\n",
            "2020-12-31  28893.210000  28928.490000  ...    28909.166061 2020-12-31\n",
            "\n",
            "[3289 rows x 8 columns]\n"
          ],
          "name": "stdout"
        },
        {
          "output_type": "execute_result",
          "data": {
            "text/html": [
              "<div>\n",
              "<style scoped>\n",
              "    .dataframe tbody tr th:only-of-type {\n",
              "        vertical-align: middle;\n",
              "    }\n",
              "\n",
              "    .dataframe tbody tr th {\n",
              "        vertical-align: top;\n",
              "    }\n",
              "\n",
              "    .dataframe thead th {\n",
              "        text-align: right;\n",
              "    }\n",
              "</style>\n",
              "<table border=\"1\" class=\"dataframe\">\n",
              "  <thead>\n",
              "    <tr style=\"text-align: right;\">\n",
              "      <th></th>\n",
              "      <th>Open</th>\n",
              "      <th>High</th>\n",
              "      <th>Low</th>\n",
              "      <th>Close</th>\n",
              "      <th>Volume_(BTC)</th>\n",
              "      <th>Volume_(Currency)</th>\n",
              "      <th>Weighted_Price</th>\n",
              "    </tr>\n",
              "    <tr>\n",
              "      <th>Timestamp</th>\n",
              "      <th></th>\n",
              "      <th></th>\n",
              "      <th></th>\n",
              "      <th></th>\n",
              "      <th></th>\n",
              "      <th></th>\n",
              "      <th></th>\n",
              "    </tr>\n",
              "  </thead>\n",
              "  <tbody>\n",
              "    <tr>\n",
              "      <th>2011-12-31</th>\n",
              "      <td>4.465000</td>\n",
              "      <td>4.482500</td>\n",
              "      <td>4.465000</td>\n",
              "      <td>4.482500</td>\n",
              "      <td>23.829470</td>\n",
              "      <td>106.330084</td>\n",
              "      <td>4.471603</td>\n",
              "    </tr>\n",
              "    <tr>\n",
              "      <th>2012-01-01</th>\n",
              "      <td>4.806667</td>\n",
              "      <td>4.806667</td>\n",
              "      <td>4.806667</td>\n",
              "      <td>4.806667</td>\n",
              "      <td>7.200667</td>\n",
              "      <td>35.259720</td>\n",
              "      <td>4.806667</td>\n",
              "    </tr>\n",
              "    <tr>\n",
              "      <th>2012-01-02</th>\n",
              "      <td>5.000000</td>\n",
              "      <td>5.000000</td>\n",
              "      <td>5.000000</td>\n",
              "      <td>5.000000</td>\n",
              "      <td>19.048000</td>\n",
              "      <td>95.240000</td>\n",
              "      <td>5.000000</td>\n",
              "    </tr>\n",
              "    <tr>\n",
              "      <th>2012-01-03</th>\n",
              "      <td>5.252500</td>\n",
              "      <td>5.252500</td>\n",
              "      <td>5.252500</td>\n",
              "      <td>5.252500</td>\n",
              "      <td>11.004660</td>\n",
              "      <td>58.100651</td>\n",
              "      <td>5.252500</td>\n",
              "    </tr>\n",
              "    <tr>\n",
              "      <th>2012-01-04</th>\n",
              "      <td>5.200000</td>\n",
              "      <td>5.223333</td>\n",
              "      <td>5.200000</td>\n",
              "      <td>5.223333</td>\n",
              "      <td>11.914807</td>\n",
              "      <td>63.119577</td>\n",
              "      <td>5.208159</td>\n",
              "    </tr>\n",
              "    <tr>\n",
              "      <th>...</th>\n",
              "      <td>...</td>\n",
              "      <td>...</td>\n",
              "      <td>...</td>\n",
              "      <td>...</td>\n",
              "      <td>...</td>\n",
              "      <td>...</td>\n",
              "      <td>...</td>\n",
              "    </tr>\n",
              "    <tr>\n",
              "      <th>2016-10-13</th>\n",
              "      <td>634.901632</td>\n",
              "      <td>635.014846</td>\n",
              "      <td>634.760437</td>\n",
              "      <td>634.888252</td>\n",
              "      <td>3.061055</td>\n",
              "      <td>1942.144819</td>\n",
              "      <td>634.897114</td>\n",
              "    </tr>\n",
              "    <tr>\n",
              "      <th>2016-10-14</th>\n",
              "      <td>635.567901</td>\n",
              "      <td>635.682073</td>\n",
              "      <td>635.442386</td>\n",
              "      <td>635.571186</td>\n",
              "      <td>4.113199</td>\n",
              "      <td>2611.758986</td>\n",
              "      <td>635.558700</td>\n",
              "    </tr>\n",
              "    <tr>\n",
              "      <th>2016-10-15</th>\n",
              "      <td>638.485054</td>\n",
              "      <td>638.666866</td>\n",
              "      <td>638.257972</td>\n",
              "      <td>638.426399</td>\n",
              "      <td>1.542141</td>\n",
              "      <td>985.088441</td>\n",
              "      <td>638.436560</td>\n",
              "    </tr>\n",
              "    <tr>\n",
              "      <th>2016-10-16</th>\n",
              "      <td>638.228078</td>\n",
              "      <td>638.369711</td>\n",
              "      <td>638.029725</td>\n",
              "      <td>638.170896</td>\n",
              "      <td>1.863493</td>\n",
              "      <td>1190.086052</td>\n",
              "      <td>638.188125</td>\n",
              "    </tr>\n",
              "    <tr>\n",
              "      <th>2016-10-17</th>\n",
              "      <td>636.036302</td>\n",
              "      <td>636.137622</td>\n",
              "      <td>635.908621</td>\n",
              "      <td>636.031914</td>\n",
              "      <td>4.706345</td>\n",
              "      <td>2991.923042</td>\n",
              "      <td>636.023350</td>\n",
              "    </tr>\n",
              "  </tbody>\n",
              "</table>\n",
              "<p>1753 rows × 7 columns</p>\n",
              "</div>"
            ],
            "text/plain": [
              "                  Open        High  ...  Volume_(Currency)  Weighted_Price\n",
              "Timestamp                           ...                                   \n",
              "2011-12-31    4.465000    4.482500  ...         106.330084        4.471603\n",
              "2012-01-01    4.806667    4.806667  ...          35.259720        4.806667\n",
              "2012-01-02    5.000000    5.000000  ...          95.240000        5.000000\n",
              "2012-01-03    5.252500    5.252500  ...          58.100651        5.252500\n",
              "2012-01-04    5.200000    5.223333  ...          63.119577        5.208159\n",
              "...                ...         ...  ...                ...             ...\n",
              "2016-10-13  634.901632  635.014846  ...        1942.144819      634.897114\n",
              "2016-10-14  635.567901  635.682073  ...        2611.758986      635.558700\n",
              "2016-10-15  638.485054  638.666866  ...         985.088441      638.436560\n",
              "2016-10-16  638.228078  638.369711  ...        1190.086052      638.188125\n",
              "2016-10-17  636.036302  636.137622  ...        2991.923042      636.023350\n",
              "\n",
              "[1753 rows x 7 columns]"
            ]
          },
          "metadata": {
            "tags": []
          },
          "execution_count": 102
        }
      ]
    },
    {
      "cell_type": "code",
      "metadata": {
        "colab": {
          "base_uri": "https://localhost:8080/",
          "height": 634
        },
        "id": "_sHvQPTECNOY",
        "outputId": "91d5a7d9-d38b-4d89-8d98-8d18d20bad43"
      },
      "source": [
        "n, bins, patches = plt.hist(x=dfr['Volume_(Currency)']['2013-1-1':'2018-1-1'], bins='auto', color='#0504aa',\r\n",
        "                            alpha=0.7, rwidth=0.85)\r\n",
        "plt.grid(axis='y', alpha=0.75)\r\n",
        "plt.xlabel('Value')\r\n",
        "plt.ylabel('Frequency')\r\n",
        "plt.title('My Very Own Histogram')\r\n",
        "plt.text(23, 45, r'$\\mu=15, b=3$')\r\n",
        "maxfreq = n.max()\r\n",
        "# Set a clean upper y-axis limit.\r\n",
        "plt.ylim(ymax=np.ceil(maxfreq / 10) * 10 if maxfreq % 10 else maxfreq + 10)"
      ],
      "execution_count": null,
      "outputs": [
        {
          "output_type": "execute_result",
          "data": {
            "text/plain": [
              "(0.0, 344280.0)"
            ]
          },
          "metadata": {
            "tags": []
          },
          "execution_count": 107
        },
        {
          "output_type": "display_data",
          "data": {
            "image/png": "[encoded data removed]",
            "text/plain": [
              "<Figure size 1440x720 with 1 Axes>"
            ]
          },
          "metadata": {
            "tags": [],
            "needs_background": "light"
          }
        }
      ]
    },
    {
      "cell_type": "code",
      "metadata": {
        "colab": {
          "base_uri": "https://localhost:8080/"
        },
        "id": "1lXNK-9RU3Ao",
        "outputId": "78cbbcd8-bb28-420e-8e90-2d3a6215b392"
      },
      "source": [
        "print(n)\r\n",
        "print('--------')\r\n",
        "\r\n",
        "print(bins)\r\n",
        "print('--------')\r\n",
        "\r\n",
        "print(patches)\r\n",
        "print('--------')"
      ],
      "execution_count": null,
      "outputs": [
        {
          "output_type": "stream",
          "text": [
            "[3.44271e+05 1.76310e+05 1.05749e+05 ... 0.00000e+00 0.00000e+00\n",
            " 1.00000e+00]\n",
            "--------\n",
            "[0.00000000e+00 9.95441590e+01 1.99088318e+02 ... 5.14772710e+06\n",
            " 5.14782664e+06 5.14792618e+06]\n",
            "--------\n",
            "<a list of 51715 Patch objects>\n",
            "--------\n"
          ],
          "name": "stdout"
        }
      ]
    },
    {
      "cell_type": "code",
      "metadata": {
        "id": "U-xlKy4TU3_a"
      },
      "source": [
        ""
      ],
      "execution_count": null,
      "outputs": []
    },
    {
      "cell_type": "markdown",
      "metadata": {
        "id": "TB_8vOcbdFUH"
      },
      "source": [
        "#***!!!Procesare paralela***\r\n",
        "\r\n",
        "Comparatia pe timpi de executie!!!\r\n",
        "\r\n",
        "Alegem fiecare o parte semnificativa , ne focusam pe acea parte si dam o solutie alternativa\r\n",
        "Prezentare: Solutia originala + Cea alternativa\r\n",
        "Tranzactie pe categorii de ex pe zilele saptamanii."
      ]
    }
  ]
}